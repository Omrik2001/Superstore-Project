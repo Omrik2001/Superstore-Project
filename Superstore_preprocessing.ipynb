{
  "nbformat": 4,
  "nbformat_minor": 0,
  "metadata": {
    "colab": {
      "provenance": []
    },
    "kernelspec": {
      "name": "python3",
      "display_name": "Python 3"
    },
    "language_info": {
      "name": "python"
    }
  },
  "cells": [
    {
      "cell_type": "markdown",
      "source": [
        "**Read data into worksheet**"
      ],
      "metadata": {
        "id": "wC29JuDmaw9R"
      }
    },
    {
      "cell_type": "code",
      "source": [
        "\n",
        "import pandas as pd\n",
        "\n",
        "df_orders_2017 = pd.read_csv('orders_2017.csv')\n",
        "df_orders_2018 = pd.read_csv('orders_2018.csv')\n",
        "df_orders_2019 = pd.read_csv('orders_2019.csv')\n",
        "sales_reps = pd.read_csv('sales_reps.csv')"
      ],
      "metadata": {
        "id": "WfV4XYlGaJ54"
      },
      "execution_count": null,
      "outputs": []
    },
    {
      "cell_type": "markdown",
      "source": [
        "**Concatenating dataframes**\n",
        "\n",
        "Before concatenating to get all 3 years orders, we check if column names are consistent"
      ],
      "metadata": {
        "id": "lGgg8exzcMmo"
      }
    },
    {
      "cell_type": "code",
      "source": [
        "\n",
        "if set(df_orders_2017.columns) == set(df_orders_2018.columns) == set(df_orders_2019.columns):\n",
        "    print(\"Column names are the same across all dataframes.\")\n",
        "else:\n",
        "    print(\"Column names are not the same across all dataframes.\")"
      ],
      "metadata": {
        "colab": {
          "base_uri": "https://localhost:8080/"
        },
        "id": "XqJ2cGvUbgxp",
        "outputId": "902b35fa-3c3c-4f6f-bc70-09f1fbdcf7ec"
      },
      "execution_count": null,
      "outputs": [
        {
          "output_type": "stream",
          "name": "stdout",
          "text": [
            "Column names are not the same across all dataframes.\n"
          ]
        }
      ]
    },
    {
      "cell_type": "markdown",
      "source": [
        "Lets check exactly which column names are different"
      ],
      "metadata": {
        "id": "6RbIJFk3cWsh"
      }
    },
    {
      "cell_type": "code",
      "source": [
        "\n",
        "print(\"Column names for df_orders_2017:\", df_orders_2017.columns.tolist())\n",
        "print(\"Column names for df_orders_2018:\", df_orders_2018.columns.tolist())\n",
        "print(\"Column names for df_orders_2019:\", df_orders_2019.columns.tolist())"
      ],
      "metadata": {
        "colab": {
          "base_uri": "https://localhost:8080/"
        },
        "id": "QD7pfvc9cEGK",
        "outputId": "421d1b7e-024e-40ff-d2c5-4ff349b8ede9"
      },
      "execution_count": null,
      "outputs": [
        {
          "output_type": "stream",
          "name": "stdout",
          "text": [
            "Column names for df_orders_2017: ['Unnamed: 0', 'order_id', 'order_date', 'dhip_date', 'ship_mode', 'customer_id', 'customer_name', 'segment', 'country_segment', 'city', 'state', 'postal_code', 'region', 'product_id', 'category', 'sub_category', 'product_name', 'sales', 'quantity', 'discount', 'profit']\n",
            "Column names for df_orders_2018: ['Unnamed: 0', 'order_id', 'order_date', 'ship_date', 'ship_mode', 'customer_id', 'customer_name', 'segment', 'county_region', 'city', 'state', 'postal_code', 'region', 'product_id', 'category', 'sub_category', 'product_name', 'sales', 'quantity', 'discount', 'profit']\n",
            "Column names for df_orders_2019: ['Unnamed: 0', 'order_id', 'order_date', 'ship_date', 'ship_mode', 'customer_id', 'customer_name', 'segment', 'country_region', 'city', 'state', 'postal_code', 'region', 'product_id', 'category', 'sub_category', 'product_name', 'sales', 'quantity', 'discount', 'profit']\n"
          ]
        }
      ]
    },
    {
      "cell_type": "markdown",
      "source": [
        "There are two issues:\n",
        "1. 'ship_date' in orders 2017 replaces the 's' with a 'd'.\n",
        "2. country_segment in 2017, county_region in 2018, and country_region in 2019 are suspected to be the same column. Lets ensure, then standradise the column names."
      ],
      "metadata": {
        "id": "g5pdksJCcrpy"
      }
    },
    {
      "cell_type": "markdown",
      "source": [
        "1. Rename 'dhip_date' in 2017 to 'ship_date'"
      ],
      "metadata": {
        "id": "AA8ocSzzdFGK"
      }
    },
    {
      "cell_type": "code",
      "source": [
        "\n",
        "df_orders_2017.rename(columns={'dhip_date': 'ship_date'}, inplace=True)"
      ],
      "metadata": {
        "id": "Wyp4DyMjdN83"
      },
      "execution_count": null,
      "outputs": []
    },
    {
      "cell_type": "markdown",
      "source": [
        "2. Lets check country_region in 2018, county_region in 2019, and country_segment in 2017 are the same"
      ],
      "metadata": {
        "id": "nuRmKmkkdUbw"
      }
    },
    {
      "cell_type": "code",
      "source": [
        "\n",
        "print(df_orders_2017['country_segment'].unique())\n",
        "print(df_orders_2018['county_region'].unique())\n",
        "print(df_orders_2019['country_region'].unique())"
      ],
      "metadata": {
        "colab": {
          "base_uri": "https://localhost:8080/"
        },
        "collapsed": true,
        "id": "CyFPDRrhe6yP",
        "outputId": "a1982f51-67c7-42d7-d92b-c92be47d3564"
      },
      "execution_count": null,
      "outputs": [
        {
          "output_type": "stream",
          "name": "stdout",
          "text": [
            "['United States']\n",
            "['United States']\n",
            "['United States']\n"
          ]
        }
      ]
    },
    {
      "cell_type": "markdown",
      "source": [
        "Lets ensure consistent datatypes"
      ],
      "metadata": {
        "id": "OLzs5DaehSlI"
      }
    },
    {
      "cell_type": "code",
      "source": [
        "\n",
        "print(df_orders_2017.dtypes)\n",
        "print(df_orders_2018.dtypes)\n",
        "df_orders_2019.dtypes"
      ],
      "metadata": {
        "colab": {
          "base_uri": "https://localhost:8080/",
          "height": 1000
        },
        "collapsed": true,
        "id": "V88s8DHlg153",
        "outputId": "200b76d3-7ff4-40d4-91f8-83bcad2ab011"
      },
      "execution_count": null,
      "outputs": [
        {
          "output_type": "stream",
          "name": "stdout",
          "text": [
            "Unnamed: 0           int64\n",
            "order_id            object\n",
            "order_date          object\n",
            "ship_date           object\n",
            "ship_mode           object\n",
            "customer_id         object\n",
            "customer_name       object\n",
            "segment             object\n",
            "country_segment     object\n",
            "city                object\n",
            "state               object\n",
            "postal_code        float64\n",
            "region              object\n",
            "product_id          object\n",
            "category            object\n",
            "sub_category        object\n",
            "product_name        object\n",
            "sales              float64\n",
            "quantity             int64\n",
            "discount           float64\n",
            "profit              object\n",
            "dtype: object\n",
            "Unnamed: 0         int64\n",
            "order_id          object\n",
            "order_date        object\n",
            "ship_date         object\n",
            "ship_mode         object\n",
            "customer_id       object\n",
            "customer_name     object\n",
            "segment           object\n",
            "county_region     object\n",
            "city              object\n",
            "state             object\n",
            "postal_code      float64\n",
            "region            object\n",
            "product_id        object\n",
            "category          object\n",
            "sub_category      object\n",
            "product_name      object\n",
            "sales            float64\n",
            "quantity           int64\n",
            "discount         float64\n",
            "profit            object\n",
            "dtype: object\n"
          ]
        },
        {
          "output_type": "execute_result",
          "data": {
            "text/plain": [
              "Unnamed: 0          int64\n",
              "order_id           object\n",
              "order_date         object\n",
              "ship_date          object\n",
              "ship_mode          object\n",
              "customer_id        object\n",
              "customer_name      object\n",
              "segment            object\n",
              "country_region     object\n",
              "city               object\n",
              "state              object\n",
              "postal_code       float64\n",
              "region             object\n",
              "product_id         object\n",
              "category           object\n",
              "sub_category       object\n",
              "product_name       object\n",
              "sales             float64\n",
              "quantity            int64\n",
              "discount          float64\n",
              "profit             object\n",
              "dtype: object"
            ],
            "text/html": [
              "<div>\n",
              "<style scoped>\n",
              "    .dataframe tbody tr th:only-of-type {\n",
              "        vertical-align: middle;\n",
              "    }\n",
              "\n",
              "    .dataframe tbody tr th {\n",
              "        vertical-align: top;\n",
              "    }\n",
              "\n",
              "    .dataframe thead th {\n",
              "        text-align: right;\n",
              "    }\n",
              "</style>\n",
              "<table border=\"1\" class=\"dataframe\">\n",
              "  <thead>\n",
              "    <tr style=\"text-align: right;\">\n",
              "      <th></th>\n",
              "      <th>0</th>\n",
              "    </tr>\n",
              "  </thead>\n",
              "  <tbody>\n",
              "    <tr>\n",
              "      <th>Unnamed: 0</th>\n",
              "      <td>int64</td>\n",
              "    </tr>\n",
              "    <tr>\n",
              "      <th>order_id</th>\n",
              "      <td>object</td>\n",
              "    </tr>\n",
              "    <tr>\n",
              "      <th>order_date</th>\n",
              "      <td>object</td>\n",
              "    </tr>\n",
              "    <tr>\n",
              "      <th>ship_date</th>\n",
              "      <td>object</td>\n",
              "    </tr>\n",
              "    <tr>\n",
              "      <th>ship_mode</th>\n",
              "      <td>object</td>\n",
              "    </tr>\n",
              "    <tr>\n",
              "      <th>customer_id</th>\n",
              "      <td>object</td>\n",
              "    </tr>\n",
              "    <tr>\n",
              "      <th>customer_name</th>\n",
              "      <td>object</td>\n",
              "    </tr>\n",
              "    <tr>\n",
              "      <th>segment</th>\n",
              "      <td>object</td>\n",
              "    </tr>\n",
              "    <tr>\n",
              "      <th>country_region</th>\n",
              "      <td>object</td>\n",
              "    </tr>\n",
              "    <tr>\n",
              "      <th>city</th>\n",
              "      <td>object</td>\n",
              "    </tr>\n",
              "    <tr>\n",
              "      <th>state</th>\n",
              "      <td>object</td>\n",
              "    </tr>\n",
              "    <tr>\n",
              "      <th>postal_code</th>\n",
              "      <td>float64</td>\n",
              "    </tr>\n",
              "    <tr>\n",
              "      <th>region</th>\n",
              "      <td>object</td>\n",
              "    </tr>\n",
              "    <tr>\n",
              "      <th>product_id</th>\n",
              "      <td>object</td>\n",
              "    </tr>\n",
              "    <tr>\n",
              "      <th>category</th>\n",
              "      <td>object</td>\n",
              "    </tr>\n",
              "    <tr>\n",
              "      <th>sub_category</th>\n",
              "      <td>object</td>\n",
              "    </tr>\n",
              "    <tr>\n",
              "      <th>product_name</th>\n",
              "      <td>object</td>\n",
              "    </tr>\n",
              "    <tr>\n",
              "      <th>sales</th>\n",
              "      <td>float64</td>\n",
              "    </tr>\n",
              "    <tr>\n",
              "      <th>quantity</th>\n",
              "      <td>int64</td>\n",
              "    </tr>\n",
              "    <tr>\n",
              "      <th>discount</th>\n",
              "      <td>float64</td>\n",
              "    </tr>\n",
              "    <tr>\n",
              "      <th>profit</th>\n",
              "      <td>object</td>\n",
              "    </tr>\n",
              "  </tbody>\n",
              "</table>\n",
              "</div><br><label><b>dtype:</b> object</label>"
            ]
          },
          "metadata": {},
          "execution_count": 194
        }
      ]
    },
    {
      "cell_type": "markdown",
      "source": [
        "Lets rename all to country"
      ],
      "metadata": {
        "id": "pvQ76NNfhYkw"
      }
    },
    {
      "cell_type": "code",
      "source": [
        "\n",
        "df_orders_2017.rename(columns={'country_segment': 'country'}, inplace=True)\n",
        "df_orders_2018.rename(columns={'county_region': 'country'}, inplace=True)\n",
        "df_orders_2019.rename(columns={'country_region': 'country'}, inplace=True)"
      ],
      "metadata": {
        "id": "AlQ337j_hqxa"
      },
      "execution_count": null,
      "outputs": []
    },
    {
      "cell_type": "markdown",
      "source": [
        "Finally, concatenate into one dataframe and save a copy of the df"
      ],
      "metadata": {
        "id": "UV_PO_VkiCtB"
      }
    },
    {
      "cell_type": "code",
      "source": [
        "\n",
        "df_all_years = pd.concat([df_orders_2017, df_orders_2018, df_orders_2019], ignore_index=True)\n",
        "\n",
        "# Display the first few rows of the combined dataframe\n",
        "print(df_all_years.head())\n",
        "\n",
        "# Display information about the combined dataframe (number of rows, columns, dtypes, etc.)\n",
        "print(df_all_years.info())\n"
      ],
      "metadata": {
        "colab": {
          "base_uri": "https://localhost:8080/"
        },
        "collapsed": true,
        "id": "DMxAofiYiGSg",
        "outputId": "dec04f64-97ac-49dd-a411-c2fae8e8fa2b"
      },
      "execution_count": null,
      "outputs": [
        {
          "output_type": "stream",
          "name": "stdout",
          "text": [
            "   Unnamed: 0        order_id  order_date   ship_date       ship_mode  \\\n",
            "0           0  US-2017-108966  2017-10-11  2017-10-18  Standard Class   \n",
            "1           1  US-2017-108966  2017-10-11  2017-10-18  Standard Class   \n",
            "2           2  US-2017-118983  2017-11-22  2017-11-26  Standard Class   \n",
            "3           3  US-2017-118983  2017-11-22  2017-11-26  Standard Class   \n",
            "4           4  CA-2017-106320  2017-09-25  2017-09-30  Standard Class   \n",
            "\n",
            "  customer_id   customer_name      segment        country             city  \\\n",
            "0    SO-20335  Sean O'Donnell     Consumer  United States  Fort Lauderdale   \n",
            "1    SO-20335  Sean O'Donnell     Consumer  United States  Fort Lauderdale   \n",
            "2    HP-14815   Harold Pawlan  Home Office  United States       Fort Worth   \n",
            "3    HP-14815   Harold Pawlan  Home Office  United States       Fort Worth   \n",
            "4    EB-13870     Emily Burns     Consumer  United States             Orem   \n",
            "\n",
            "   ... postal_code   region       product_id         category sub_category  \\\n",
            "0  ...     33311.0    South  FUR-TA-10000577        Furniture       Tables   \n",
            "1  ...     33311.0    South  OFF-ST-10000760  Office Supplies      Storage   \n",
            "2  ...     76106.0  Central  OFF-AP-10002311  Office Supplies   Appliances   \n",
            "3  ...     76106.0  Central  OFF-BI-10000756  Office Supplies      Binders   \n",
            "4  ...     84057.0     West  FUR-TA-10000577        Furniture       Tables   \n",
            "\n",
            "                                        product_name      sales  quantity  \\\n",
            "0      Bretford CR4500 Series Slim Rectangular Table   957.5775         5   \n",
            "1                     Eldon Fold 'N Roll Cart System    22.3680         2   \n",
            "2  Holmes Replacement Filter for HEPA Air Cleaner...    68.8100         5   \n",
            "3   Storex DuraTech Recycled Plastic Frosted Binders     2.5440         3   \n",
            "4      Bretford CR4500 Series Slim Rectangular Table  1044.6300         3   \n",
            "\n",
            "   discount    profit  \n",
            "0      0.45  -$383.03  \n",
            "1      0.20     $2.52  \n",
            "2      0.80  -$123.86  \n",
            "3      0.80    -$3.82  \n",
            "4      0.00   $240.26  \n",
            "\n",
            "[5 rows x 21 columns]\n",
            "<class 'pandas.core.frame.DataFrame'>\n",
            "RangeIndex: 8001 entries, 0 to 8000\n",
            "Data columns (total 21 columns):\n",
            " #   Column         Non-Null Count  Dtype  \n",
            "---  ------         --------------  -----  \n",
            " 0   Unnamed: 0     8001 non-null   int64  \n",
            " 1   order_id       8001 non-null   object \n",
            " 2   order_date     8001 non-null   object \n",
            " 3   ship_date      8001 non-null   object \n",
            " 4   ship_mode      8001 non-null   object \n",
            " 5   customer_id    8001 non-null   object \n",
            " 6   customer_name  8001 non-null   object \n",
            " 7   segment        8001 non-null   object \n",
            " 8   country        8001 non-null   object \n",
            " 9   city           8001 non-null   object \n",
            " 10  state          8001 non-null   object \n",
            " 11  postal_code    7990 non-null   float64\n",
            " 12  region         8001 non-null   object \n",
            " 13  product_id     8001 non-null   object \n",
            " 14  category       8001 non-null   object \n",
            " 15  sub_category   8001 non-null   object \n",
            " 16  product_name   8001 non-null   object \n",
            " 17  sales          8001 non-null   float64\n",
            " 18  quantity       8001 non-null   int64  \n",
            " 19  discount       8001 non-null   float64\n",
            " 20  profit         8001 non-null   object \n",
            "dtypes: float64(3), int64(2), object(16)\n",
            "memory usage: 1.3+ MB\n",
            "None\n"
          ]
        }
      ]
    },
    {
      "cell_type": "code",
      "source": [
        "\n",
        "df_all_years_copy = df_all_years.copy()"
      ],
      "metadata": {
        "id": "XSYW-XE8KHTX"
      },
      "execution_count": null,
      "outputs": []
    },
    {
      "cell_type": "markdown",
      "source": [
        "The story of one row:\n",
        "\n",
        "each row represents a unique product ordered in an order. Therefore, product id can repeat, and cannot be used as a PK. Lets make a primary key 'product_ordered_id"
      ],
      "metadata": {
        "id": "ALRl9bIWRDP2"
      }
    },
    {
      "cell_type": "code",
      "source": [
        "\n",
        "df_all_years['product_ordered_id'] = range(1, len(df_all_years) + 1)"
      ],
      "metadata": {
        "id": "dVnSfLaeRtEb"
      },
      "execution_count": null,
      "outputs": []
    },
    {
      "cell_type": "markdown",
      "source": [
        "**Initial exploration**\n"
      ],
      "metadata": {
        "id": "_rAKBiI0i4yo"
      }
    },
    {
      "cell_type": "code",
      "source": [
        "print(df_all_years.shape)\n",
        "print(df_all_years.columns)"
      ],
      "metadata": {
        "colab": {
          "base_uri": "https://localhost:8080/"
        },
        "id": "JuwA5a4Znrti",
        "outputId": "8e8426a6-a942-4d5b-e4c9-377c30c27644"
      },
      "execution_count": null,
      "outputs": [
        {
          "output_type": "stream",
          "name": "stdout",
          "text": [
            "(8001, 22)\n",
            "Index(['Unnamed: 0', 'order_id', 'order_date', 'ship_date', 'ship_mode',\n",
            "       'customer_id', 'customer_name', 'segment', 'country', 'city', 'state',\n",
            "       'postal_code', 'region', 'product_id', 'category', 'sub_category',\n",
            "       'product_name', 'sales', 'quantity', 'discount', 'profit',\n",
            "       'product_ordered_id'],\n",
            "      dtype='object')\n"
          ]
        }
      ]
    },
    {
      "cell_type": "markdown",
      "source": [
        "There is an irrelevant column 'Unamed: 0' we can delete"
      ],
      "metadata": {
        "id": "CUkMO9FCoIeu"
      }
    },
    {
      "cell_type": "code",
      "source": [
        "\n",
        "df_all_years = df_all_years.drop(columns=['Unnamed: 0'])"
      ],
      "metadata": {
        "id": "wnkxKmHyoNtj"
      },
      "execution_count": null,
      "outputs": []
    },
    {
      "cell_type": "markdown",
      "source": [
        "'country' is all the same, so delete column"
      ],
      "metadata": {
        "id": "Ph-fgQFwYFCU"
      }
    },
    {
      "cell_type": "code",
      "source": [
        "\n",
        "df_all_years = df_all_years.drop(columns=['country'])"
      ],
      "metadata": {
        "id": "sESYpL8WYK6L"
      },
      "execution_count": null,
      "outputs": []
    },
    {
      "cell_type": "markdown",
      "source": [
        "Examine nulls\n",
        "- 11 nulls in postal_code"
      ],
      "metadata": {
        "id": "M6iFZV5TmOyC"
      }
    },
    {
      "cell_type": "code",
      "source": [
        "\n",
        "print(df_all_years.isnull().sum())"
      ],
      "metadata": {
        "colab": {
          "base_uri": "https://localhost:8080/"
        },
        "collapsed": true,
        "id": "JCY6HDn-l-ki",
        "outputId": "f24da0c3-12e0-40c6-da6e-a43de51c4497"
      },
      "execution_count": null,
      "outputs": [
        {
          "output_type": "stream",
          "name": "stdout",
          "text": [
            "order_id               0\n",
            "order_date             0\n",
            "ship_date              0\n",
            "ship_mode              0\n",
            "customer_id            0\n",
            "customer_name          0\n",
            "segment                0\n",
            "city                   0\n",
            "state                  0\n",
            "postal_code           11\n",
            "region                 0\n",
            "product_id             0\n",
            "category               0\n",
            "sub_category           0\n",
            "product_name           0\n",
            "sales                  0\n",
            "quantity               0\n",
            "discount               0\n",
            "profit                 0\n",
            "product_ordered_id     0\n",
            "dtype: int64\n"
          ]
        }
      ]
    },
    {
      "cell_type": "markdown",
      "source": [
        "Lets impute the nulls with the postal code most common in the city of the record"
      ],
      "metadata": {
        "id": "4zIV-TpQYl9z"
      }
    },
    {
      "cell_type": "code",
      "source": [
        "\n",
        "# Group by 'city' and find the most common 'postal_code' for each city\n",
        "city_postal_code_mode = df_all_years.groupby('city')['postal_code'].apply(lambda x: x.mode().iloc[0] if not x.mode().empty else None)\n",
        "\n",
        "# Impute the missing 'postal_code' values based on the 'city'\n",
        "df_all_years['postal_code'] = df_all_years.apply(\n",
        "    lambda row: city_postal_code_mode[row['city']] if pd.isnull(row['postal_code']) and row['city'] in city_postal_code_mode else row['postal_code'],\n",
        "    axis=1\n",
        ")\n",
        "\n",
        "# Verify if there are any remaining nulls in 'postal_code'\n",
        "print(\"\\nNull values after imputation:\")\n",
        "print(df_all_years.isnull().sum())\n"
      ],
      "metadata": {
        "colab": {
          "base_uri": "https://localhost:8080/"
        },
        "collapsed": true,
        "id": "3nJcG_sfYth9",
        "outputId": "fa03e1ac-2a9d-4d7d-86b9-068b513ee821"
      },
      "execution_count": null,
      "outputs": [
        {
          "output_type": "stream",
          "name": "stdout",
          "text": [
            "\n",
            "Null values after imputation:\n",
            "order_id              0\n",
            "order_date            0\n",
            "ship_date             0\n",
            "ship_mode             0\n",
            "customer_id           0\n",
            "customer_name         0\n",
            "segment               0\n",
            "city                  0\n",
            "state                 0\n",
            "postal_code           0\n",
            "region                0\n",
            "product_id            0\n",
            "category              0\n",
            "sub_category          0\n",
            "product_name          0\n",
            "sales                 0\n",
            "quantity              0\n",
            "discount              0\n",
            "profit                0\n",
            "product_ordered_id    0\n",
            "dtype: int64\n"
          ]
        }
      ]
    },
    {
      "cell_type": "markdown",
      "source": [
        "Data types are all consistent, for now\n",
        "We can pay more attention to this in Power BI at a later stage, in data formatting for best reporting practices"
      ],
      "metadata": {
        "id": "ho4qlgMRoYex"
      }
    },
    {
      "cell_type": "code",
      "source": [
        "\n",
        "df_all_years.dtypes"
      ],
      "metadata": {
        "colab": {
          "base_uri": "https://localhost:8080/",
          "height": 711
        },
        "id": "cuqdcsPAmXYp",
        "outputId": "440aa32a-b0d6-4902-a51a-37ad18f2f157"
      },
      "execution_count": null,
      "outputs": [
        {
          "output_type": "execute_result",
          "data": {
            "text/plain": [
              "order_id               object\n",
              "order_date             object\n",
              "ship_date              object\n",
              "ship_mode              object\n",
              "customer_id            object\n",
              "customer_name          object\n",
              "segment                object\n",
              "city                   object\n",
              "state                  object\n",
              "postal_code           float64\n",
              "region                 object\n",
              "product_id             object\n",
              "category               object\n",
              "sub_category           object\n",
              "product_name           object\n",
              "sales                 float64\n",
              "quantity                int64\n",
              "discount              float64\n",
              "profit                 object\n",
              "product_ordered_id      int64\n",
              "dtype: object"
            ],
            "text/html": [
              "<div>\n",
              "<style scoped>\n",
              "    .dataframe tbody tr th:only-of-type {\n",
              "        vertical-align: middle;\n",
              "    }\n",
              "\n",
              "    .dataframe tbody tr th {\n",
              "        vertical-align: top;\n",
              "    }\n",
              "\n",
              "    .dataframe thead th {\n",
              "        text-align: right;\n",
              "    }\n",
              "</style>\n",
              "<table border=\"1\" class=\"dataframe\">\n",
              "  <thead>\n",
              "    <tr style=\"text-align: right;\">\n",
              "      <th></th>\n",
              "      <th>0</th>\n",
              "    </tr>\n",
              "  </thead>\n",
              "  <tbody>\n",
              "    <tr>\n",
              "      <th>order_id</th>\n",
              "      <td>object</td>\n",
              "    </tr>\n",
              "    <tr>\n",
              "      <th>order_date</th>\n",
              "      <td>object</td>\n",
              "    </tr>\n",
              "    <tr>\n",
              "      <th>ship_date</th>\n",
              "      <td>object</td>\n",
              "    </tr>\n",
              "    <tr>\n",
              "      <th>ship_mode</th>\n",
              "      <td>object</td>\n",
              "    </tr>\n",
              "    <tr>\n",
              "      <th>customer_id</th>\n",
              "      <td>object</td>\n",
              "    </tr>\n",
              "    <tr>\n",
              "      <th>customer_name</th>\n",
              "      <td>object</td>\n",
              "    </tr>\n",
              "    <tr>\n",
              "      <th>segment</th>\n",
              "      <td>object</td>\n",
              "    </tr>\n",
              "    <tr>\n",
              "      <th>city</th>\n",
              "      <td>object</td>\n",
              "    </tr>\n",
              "    <tr>\n",
              "      <th>state</th>\n",
              "      <td>object</td>\n",
              "    </tr>\n",
              "    <tr>\n",
              "      <th>postal_code</th>\n",
              "      <td>float64</td>\n",
              "    </tr>\n",
              "    <tr>\n",
              "      <th>region</th>\n",
              "      <td>object</td>\n",
              "    </tr>\n",
              "    <tr>\n",
              "      <th>product_id</th>\n",
              "      <td>object</td>\n",
              "    </tr>\n",
              "    <tr>\n",
              "      <th>category</th>\n",
              "      <td>object</td>\n",
              "    </tr>\n",
              "    <tr>\n",
              "      <th>sub_category</th>\n",
              "      <td>object</td>\n",
              "    </tr>\n",
              "    <tr>\n",
              "      <th>product_name</th>\n",
              "      <td>object</td>\n",
              "    </tr>\n",
              "    <tr>\n",
              "      <th>sales</th>\n",
              "      <td>float64</td>\n",
              "    </tr>\n",
              "    <tr>\n",
              "      <th>quantity</th>\n",
              "      <td>int64</td>\n",
              "    </tr>\n",
              "    <tr>\n",
              "      <th>discount</th>\n",
              "      <td>float64</td>\n",
              "    </tr>\n",
              "    <tr>\n",
              "      <th>profit</th>\n",
              "      <td>object</td>\n",
              "    </tr>\n",
              "    <tr>\n",
              "      <th>product_ordered_id</th>\n",
              "      <td>int64</td>\n",
              "    </tr>\n",
              "  </tbody>\n",
              "</table>\n",
              "</div><br><label><b>dtype:</b> object</label>"
            ]
          },
          "metadata": {},
          "execution_count": 203
        }
      ]
    },
    {
      "cell_type": "markdown",
      "source": [
        "**Schema modelling**\n",
        "\n",
        "Schema model most apprpriate for the data is a 'snowflake' schema, with one fact table, and related dimension tables with levels of granularity.\n",
        "\n",
        "Key perks of using a snowflake schema in Power BI:\n",
        "\n",
        "Lean data model – normalising dimensions removes duplicate attribute columns, shrinking memory footprint and speeding up refreshes.\n",
        "\n",
        "Centralised attributes – each real-world concept lives in one table, so fixes or new columns are made once and flow everywhere.\n",
        "\n",
        "Clearer relationships – smaller, purpose-built tables reduce many-to-one ambiguities and make role-playing dimensions (e.g., Order Date vs. Ship Date) straightforward.\n",
        "\n",
        "Granular security – row-level security rules can target the most specific dimension table instead of a wide, denormalised one.\n",
        "\n",
        "Faster incremental loads – when only one branch of the snowflake changes, you refresh that slice instead of re-processing a bulky star dimension.\n",
        "\n",
        "Better hierarchy handling – natural drill paths (Country → State → City) are already split across tables, making hierarchy visuals easier to build."
      ],
      "metadata": {
        "id": "52xfeVrkpyZO"
      }
    },
    {
      "cell_type": "markdown",
      "source": [
        "![Schema model.JPG](data:image/jpeg;base64,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)"
      ],
      "metadata": {
        "id": "B27GV2B8IXyv"
      }
    },
    {
      "cell_type": "markdown",
      "source": [
        "A hirearchy of tables for geographies will be created for each level of granularity, for example postal_code --> city --> state --> region. They will be linked to the orders table.\n",
        "- For that, lets anwer:\n",
        "1. Does each postal code have a unique city?\n",
        "2. Does each city have a unique state?\n",
        "3. Does each state have a unique region?"
      ],
      "metadata": {
        "id": "QYOIQNWNk60_"
      }
    },
    {
      "cell_type": "markdown",
      "source": [
        "1. Does each postal code have a unique city?"
      ],
      "metadata": {
        "id": "-nzYrsGxoCJ-"
      }
    },
    {
      "cell_type": "code",
      "source": [
        "\n",
        "# Group by postal_code and check the number of unique cities for each postal code\n",
        "postal_code_city_counts = df_all_years.groupby('postal_code')['city'].nunique()\n",
        "\n",
        "# Check if any postal code has more than one unique city\n",
        "if (postal_code_city_counts > 1).any():\n",
        "    print(\"No, each postal code does not have a unique city.\")\n",
        "    # Optionally, you can print the postal codes that have multiple cities\n",
        "    print(\"\\nPostal codes with multiple cities:\")\n",
        "    print(postal_code_city_counts[postal_code_city_counts > 1])\n",
        "else:\n",
        "    print(\"Yes, each postal code has a unique city.\")"
      ],
      "metadata": {
        "colab": {
          "base_uri": "https://localhost:8080/"
        },
        "id": "2AxXsJYZplde",
        "outputId": "017299ed-cfee-4ef8-8d1d-732f05728ecb"
      },
      "execution_count": null,
      "outputs": [
        {
          "output_type": "stream",
          "name": "stdout",
          "text": [
            "No, each postal code does not have a unique city.\n",
            "\n",
            "Postal codes with multiple cities:\n",
            "postal_code\n",
            "92024.0    2\n",
            "Name: city, dtype: int64\n"
          ]
        }
      ]
    },
    {
      "cell_type": "markdown",
      "source": [
        "1.  Encinitas and San Diego share the 92024.0 postal code. For the purposes of simplicity, lets delte the Encinitas instances"
      ],
      "metadata": {
        "id": "u7uQWXURqTrm"
      }
    },
    {
      "cell_type": "code",
      "source": [
        "\n",
        "df_all_years = df_all_years[\n",
        "    ~((df_all_years['postal_code'] == 92024.0) & (df_all_years['city'] == 'Encinitas'))\n",
        "]"
      ],
      "metadata": {
        "id": "k095gWrnqgOn"
      },
      "execution_count": null,
      "outputs": []
    },
    {
      "cell_type": "markdown",
      "source": [
        "2. Does each city have a unique state?"
      ],
      "metadata": {
        "id": "0d_rxcTaqzUP"
      }
    },
    {
      "cell_type": "code",
      "source": [
        "\n",
        "# Group by city and check the number of unique states for each city\n",
        "city_state_counts = df_all_years.groupby('city')['state'].nunique()\n",
        "\n",
        "# Check if any city has more than one unique state\n",
        "if (city_state_counts > 1).any():\n",
        "    print(\"No, each city does not have a unique state.\")\n",
        "    # Optionally, you can print the cities that have multiple states and the states\n",
        "    print(\"\\nCities with multiple states:\")\n",
        "    cities_with_multiple_states = city_state_counts[city_state_counts > 1].index\n",
        "    for city in cities_with_multiple_states:\n",
        "        states_for_city = df_all_years[df_all_years['city'] == city]['state'].unique()\n",
        "        print(f\"City: {city}, States: {list(states_for_city)}\")\n",
        "else:\n",
        "    print(\"Yes, each city has a unique state.\")"
      ],
      "metadata": {
        "colab": {
          "base_uri": "https://localhost:8080/"
        },
        "id": "lVw_IJFfrBUG",
        "outputId": "074fd927-28c2-4cd6-bd77-ca51943e30c1"
      },
      "execution_count": null,
      "outputs": [
        {
          "output_type": "stream",
          "name": "stdout",
          "text": [
            "No, each city does not have a unique state.\n",
            "\n",
            "Cities with multiple states:\n",
            "City: Apple Valley, States: ['California', 'Minnesota']\n",
            "City: Arlington, States: ['Texas', 'Virginia']\n",
            "City: Auburn, States: ['New York', 'Alabama', 'Washington']\n",
            "City: Aurora, States: ['Colorado', 'Illinois']\n",
            "City: Bloomington, States: ['Illinois', 'Indiana']\n",
            "City: Bowling Green, States: ['Ohio', 'Kentucky']\n",
            "City: Bristol, States: ['Tennessee', 'Connecticut']\n",
            "City: Burlington, States: ['Vermont', 'North Carolina', 'Iowa']\n",
            "City: Columbia, States: ['Tennessee', 'South Carolina', 'Maryland', 'Missouri']\n",
            "City: Columbus, States: ['Ohio', 'Indiana', 'Georgia']\n",
            "City: Concord, States: ['New Hampshire', 'North Carolina', 'California']\n",
            "City: Danville, States: ['California', 'Illinois']\n",
            "City: Decatur, States: ['Alabama', 'Illinois']\n",
            "City: Des Moines, States: ['Washington', 'Iowa']\n",
            "City: Dover, States: ['Delaware', 'New Hampshire']\n",
            "City: Dublin, States: ['Ohio', 'California']\n",
            "City: Everett, States: ['Massachusetts', 'Washington']\n",
            "City: Fairfield, States: ['Connecticut', 'Ohio', 'California']\n",
            "City: Fayetteville, States: ['Arkansas', 'North Carolina']\n",
            "City: Florence, States: ['Kentucky', 'South Carolina', 'Alabama']\n",
            "City: Franklin, States: ['Massachusetts', 'Tennessee', 'Wisconsin']\n",
            "City: Freeport, States: ['New York', 'Illinois']\n",
            "City: Henderson, States: ['Kentucky', 'Nevada']\n",
            "City: Huntsville, States: ['Alabama', 'Texas']\n",
            "City: Jackson, States: ['Michigan', 'Tennessee', 'Mississippi']\n",
            "City: Jacksonville, States: ['Florida', 'North Carolina']\n",
            "City: Kent, States: ['Ohio', 'Washington']\n",
            "City: La Porte, States: ['Indiana', 'Texas']\n",
            "City: Lafayette, States: ['Louisiana', 'Indiana']\n",
            "City: Lakewood, States: ['New Jersey', 'California', 'Ohio']\n",
            "City: Lancaster, States: ['California', 'Pennsylvania', 'Ohio']\n",
            "City: Lawrence, States: ['Massachusetts', 'Indiana']\n",
            "City: Long Beach, States: ['California', 'New York']\n",
            "City: Louisville, States: ['Kentucky', 'Colorado']\n",
            "City: Marion, States: ['Ohio', 'Iowa']\n",
            "City: Monroe, States: ['North Carolina', 'Louisiana']\n",
            "City: Murray, States: ['Kentucky', 'Utah']\n",
            "City: Newark, States: ['Ohio', 'Delaware']\n",
            "City: Oak Park, States: ['Illinois', 'Michigan']\n",
            "City: Oceanside, States: ['California', 'New York']\n",
            "City: Pasadena, States: ['California', 'Texas']\n",
            "City: Peoria, States: ['Illinois', 'Arizona']\n",
            "City: Quincy, States: ['Massachusetts', 'Illinois']\n",
            "City: Redmond, States: ['Oregon', 'Washington']\n",
            "City: Richmond, States: ['Kentucky', 'Virginia', 'Indiana']\n",
            "City: Rochester, States: ['New York', 'Minnesota']\n",
            "City: Roseville, States: ['Minnesota', 'California', 'Michigan']\n",
            "City: Saint Charles, States: ['Illinois', 'Missouri']\n",
            "City: Salem, States: ['Oregon', 'Virginia']\n",
            "City: Smyrna, States: ['Tennessee', 'Georgia']\n",
            "City: Springfield, States: ['Ohio', 'Virginia', 'Missouri', 'Oregon']\n",
            "City: Troy, States: ['Ohio', 'New York']\n",
            "City: Wheeling, States: ['Illinois', 'West Virginia']\n",
            "City: Wilmington, States: ['North Carolina', 'Delaware']\n"
          ]
        }
      ]
    },
    {
      "cell_type": "markdown",
      "source": [
        "2. Some cities are present in multiple states. To make cities unique, lets add an abbreviation reflecting the state they are in"
      ],
      "metadata": {
        "id": "6kUGjYtPrQzG"
      }
    },
    {
      "cell_type": "code",
      "source": [
        "\n",
        "state_abbreviations = {\n",
        "    'Alabama': 'AL', 'Alaska': 'AK', 'Arizona': 'AZ', 'Arkansas': 'AR',\n",
        "    'California': 'CA', 'Colorado': 'CO', 'Connecticut': 'CT', 'Delaware': 'DE',\n",
        "    'Florida': 'FL', 'Georgia': 'GA', 'Hawaii': 'HI', 'Idaho': 'ID',\n",
        "    'Illinois': 'IL', 'Indiana': 'IN', 'Iowa': 'IA', 'Kansas': 'KS',\n",
        "    'Kentucky': 'KY', 'Louisiana': 'LA', 'Maine': 'ME', 'Maryland': 'MD',\n",
        "    'Massachusetts': 'MA', 'Michigan': 'MI', 'Minnesota': 'MN', 'Mississippi': 'MS',\n",
        "    'Missouri': 'MO', 'Montana': 'MT', 'Nebraska': 'NE', 'Nevada': 'NV',\n",
        "    'New Hampshire': 'NH', 'New Jersey': 'NJ', 'New Mexico': 'NM', 'New York': 'NY',\n",
        "    'North Carolina': 'NC', 'North Dakota': 'ND', 'Ohio': 'OH', 'Oklahoma': 'OK',\n",
        "    'Oregon': 'OR', 'Pennsylvania': 'PA', 'Rhode Island': 'RI', 'South Carolina': 'SC',\n",
        "    'South Dakota': 'SD', 'Tennessee': 'TN', 'Texas': 'TX', 'Utah': 'UT',\n",
        "    'Vermont': 'VT', 'Virginia': 'VA', 'Washington': 'WA', 'West Virginia': 'WV',\n",
        "    'Wisconsin': 'WI', 'Wyoming': 'WY',\n",
        "    'District of Columbia': 'DC'\n",
        "}\n",
        "\n",
        "df_all_years['city_state'] = df_all_years.apply(\n",
        "    lambda row: f\"{row['city']}, {state_abbreviations.get(row['state'], row['state'])}\" if pd.notnull(row['city']) and pd.notnull(row['state']) else row['city'],\n",
        "    axis=1\n",
        ")\n",
        "\n",
        "# Verify the changes\n",
        "print(df_all_years[['city', 'state', 'city_state']].head())\n",
        "\n",
        "# Check if each city_state now has a unique state\n",
        "city_state_counts_new = df_all_years.groupby('city_state')['state'].nunique()\n",
        "\n",
        "if (city_state_counts_new > 1).any():\n",
        "    print(\"No, each city_state does not have a unique state after modification.\")\n",
        "    print(\"\\nCity_States with multiple states:\")\n",
        "    city_states_with_multiple_states = city_state_counts_new[city_state_counts_new > 1].index\n",
        "    for city_state in city_states_with_multiple_states:\n",
        "        states_for_city_state = df_all_years[df_all_years['city_state'] == city_state]['state'].unique()\n",
        "        print(f\"City_State: {city_state}, States: {list(states_for_city_state)}\")\n",
        "else:\n",
        "    print(\"Yes, each city_state has a unique state after modification.\")"
      ],
      "metadata": {
        "colab": {
          "base_uri": "https://localhost:8080/"
        },
        "collapsed": true,
        "id": "88CHEEO1sbDd",
        "outputId": "30eaa13e-38cf-4f89-d52d-062b4676af3f"
      },
      "execution_count": null,
      "outputs": [
        {
          "output_type": "stream",
          "name": "stdout",
          "text": [
            "              city    state           city_state\n",
            "0  Fort Lauderdale  Florida  Fort Lauderdale, FL\n",
            "1  Fort Lauderdale  Florida  Fort Lauderdale, FL\n",
            "2       Fort Worth    Texas       Fort Worth, TX\n",
            "3       Fort Worth    Texas       Fort Worth, TX\n",
            "4             Orem     Utah             Orem, UT\n",
            "Yes, each city_state has a unique state after modification.\n"
          ]
        }
      ]
    },
    {
      "cell_type": "code",
      "source": [
        "\n",
        "df_all_years = df_all_years.drop(columns=['city'])\n",
        "df_all_years.rename(columns={'city_state': 'city'}, inplace=True)\n",
        "\n",
        "print(df_all_years.columns)\n",
        "print(df_all_years[['city', 'state']].head())"
      ],
      "metadata": {
        "colab": {
          "base_uri": "https://localhost:8080/"
        },
        "id": "kLFm1-Zttiz1",
        "outputId": "b55b3592-8b02-4fe8-f3a1-d3b9f47cd5ae"
      },
      "execution_count": null,
      "outputs": [
        {
          "output_type": "stream",
          "name": "stdout",
          "text": [
            "Index(['order_id', 'order_date', 'ship_date', 'ship_mode', 'customer_id',\n",
            "       'customer_name', 'segment', 'state', 'postal_code', 'region',\n",
            "       'product_id', 'category', 'sub_category', 'product_name', 'sales',\n",
            "       'quantity', 'discount', 'profit', 'product_ordered_id', 'city'],\n",
            "      dtype='object')\n",
            "                  city    state\n",
            "0  Fort Lauderdale, FL  Florida\n",
            "1  Fort Lauderdale, FL  Florida\n",
            "2       Fort Worth, TX    Texas\n",
            "3       Fort Worth, TX    Texas\n",
            "4             Orem, UT     Utah\n"
          ]
        }
      ]
    },
    {
      "cell_type": "markdown",
      "source": [
        "3. Does each state have a unique region?"
      ],
      "metadata": {
        "id": "ntMFwfhEt0yN"
      }
    },
    {
      "cell_type": "code",
      "source": [
        "\n",
        "# Group by state and check the number of unique regions for each state\n",
        "state_region_counts = df_all_years.groupby('state')['region'].nunique()\n",
        "\n",
        "# Check if any state has more than one unique region\n",
        "if (state_region_counts > 1).any():\n",
        "    print(\"No, each state does not have a unique region.\")\n",
        "    # Optionally, you can print the states that have multiple regions and the regions\n",
        "    print(\"\\nStates with multiple regions:\")\n",
        "    states_with_multiple_regions = state_region_counts[state_region_counts > 1].index\n",
        "    for state in states_with_multiple_regions:\n",
        "        regions_for_state = df_all_years[df_all_years['state'] == state]['region'].unique()\n",
        "        print(f\"State: {state}, Regions: {list(regions_for_state)}\")\n",
        "else:\n",
        "    print(\"Yes, each state has a unique region.\")"
      ],
      "metadata": {
        "colab": {
          "base_uri": "https://localhost:8080/"
        },
        "id": "3F0fQrSIt9GO",
        "outputId": "79a069b6-33a6-4f59-bef6-ba2b6e53341c"
      },
      "execution_count": null,
      "outputs": [
        {
          "output_type": "stream",
          "name": "stdout",
          "text": [
            "Yes, each state has a unique region.\n"
          ]
        }
      ]
    },
    {
      "cell_type": "markdown",
      "source": [
        "Create the dim_orders table"
      ],
      "metadata": {
        "id": "Rd2SBZShuF8G"
      }
    },
    {
      "cell_type": "code",
      "source": [
        "\n",
        "dim_orders = df_all_years[['order_id', 'order_date', 'ship_date', 'ship_mode', 'customer_id', 'postal_code']].drop_duplicates().reset_index(drop=True)\n",
        "\n",
        "# Display the first few rows of dim_orders\n",
        "print(dim_orders.head())\n",
        "\n",
        "# Display information about dim_orders\n",
        "print(dim_orders.info())"
      ],
      "metadata": {
        "colab": {
          "base_uri": "https://localhost:8080/"
        },
        "collapsed": true,
        "id": "lmG8cmm4uFae",
        "outputId": "b72d2508-16a0-48a0-f9d2-23c6735a922b"
      },
      "execution_count": null,
      "outputs": [
        {
          "output_type": "stream",
          "name": "stdout",
          "text": [
            "         order_id  order_date   ship_date       ship_mode customer_id  \\\n",
            "0  US-2017-108966  2017-10-11  2017-10-18  Standard Class    SO-20335   \n",
            "1  US-2017-118983  2017-11-22  2017-11-26  Standard Class    HP-14815   \n",
            "2  CA-2017-106320  2017-09-25  2017-09-30  Standard Class    EB-13870   \n",
            "3  US-2017-150630  2017-09-17  2017-09-21  Standard Class    TB-21520   \n",
            "4  CA-2017-117415  2017-12-27  2017-12-31  Standard Class    SN-20710   \n",
            "\n",
            "   postal_code  \n",
            "0      33311.0  \n",
            "1      76106.0  \n",
            "2      84057.0  \n",
            "3      19140.0  \n",
            "4      77041.0  \n",
            "<class 'pandas.core.frame.DataFrame'>\n",
            "RangeIndex: 4038 entries, 0 to 4037\n",
            "Data columns (total 6 columns):\n",
            " #   Column       Non-Null Count  Dtype  \n",
            "---  ------       --------------  -----  \n",
            " 0   order_id     4038 non-null   object \n",
            " 1   order_date   4038 non-null   object \n",
            " 2   ship_date    4038 non-null   object \n",
            " 3   ship_mode    4038 non-null   object \n",
            " 4   customer_id  4038 non-null   object \n",
            " 5   postal_code  4038 non-null   float64\n",
            "dtypes: float64(1), object(5)\n",
            "memory usage: 189.4+ KB\n",
            "None\n"
          ]
        }
      ]
    },
    {
      "cell_type": "markdown",
      "source": [
        "Create dim_cities table"
      ],
      "metadata": {
        "id": "LFGaud_avRcO"
      }
    },
    {
      "cell_type": "code",
      "source": [
        "\n",
        "dim_cities = df_all_years[['postal_code', 'city']].drop_duplicates().reset_index(drop=True)\n",
        "\n",
        "# Display the first few rows of dim_cities\n",
        "print(dim_cities.head())\n",
        "\n",
        "# Display information about dim_cities\n",
        "print(dim_cities.info())"
      ],
      "metadata": {
        "colab": {
          "base_uri": "https://localhost:8080/"
        },
        "collapsed": true,
        "id": "KPo4PipDvQlC",
        "outputId": "39dfa47b-2c4c-41bd-b0b2-f5e05de00575"
      },
      "execution_count": null,
      "outputs": [
        {
          "output_type": "stream",
          "name": "stdout",
          "text": [
            "   postal_code                 city\n",
            "0      33311.0  Fort Lauderdale, FL\n",
            "1      76106.0       Fort Worth, TX\n",
            "2      84057.0             Orem, UT\n",
            "3      19140.0     Philadelphia, PA\n",
            "4      77041.0          Houston, TX\n",
            "<class 'pandas.core.frame.DataFrame'>\n",
            "RangeIndex: 602 entries, 0 to 601\n",
            "Data columns (total 2 columns):\n",
            " #   Column       Non-Null Count  Dtype  \n",
            "---  ------       --------------  -----  \n",
            " 0   postal_code  602 non-null    float64\n",
            " 1   city         602 non-null    object \n",
            "dtypes: float64(1), object(1)\n",
            "memory usage: 9.5+ KB\n",
            "None\n"
          ]
        }
      ]
    },
    {
      "cell_type": "code",
      "source": [
        "\n",
        "# Identify postal codes that appear more than once in dim_cities\n",
        "duplicate_postal_codes = dim_cities[dim_cities.duplicated('postal_code', keep=False)]['postal_code'].unique()\n",
        "\n",
        "# Filter dim_cities to show rows where postal_code is not unique\n",
        "rows_with_non_unique_postal_codes = dim_cities[dim_cities['postal_code'].isin(duplicate_postal_codes)].sort_values(by='postal_code')\n",
        "\n",
        "print(\"Rows where postal_code is not unique in dim_cities:\")\n",
        "rows_with_non_unique_postal_codes"
      ],
      "metadata": {
        "colab": {
          "base_uri": "https://localhost:8080/",
          "height": 142
        },
        "id": "ONaAdoOYvu5X",
        "outputId": "7f04185f-1092-4c6b-b8a6-c2fbd81653d7"
      },
      "execution_count": null,
      "outputs": [
        {
          "output_type": "stream",
          "name": "stdout",
          "text": [
            "Rows where postal_code is not unique in dim_cities:\n"
          ]
        },
        {
          "output_type": "execute_result",
          "data": {
            "text/plain": [
              "     postal_code            city\n",
              "245      27217.0  Burlington, VT\n",
              "481      27217.0  Burlington, NC"
            ],
            "text/html": [
              "\n",
              "  <div id=\"df-c1f63264-09bc-4262-a43d-80fd67e906bd\" class=\"colab-df-container\">\n",
              "    <div>\n",
              "<style scoped>\n",
              "    .dataframe tbody tr th:only-of-type {\n",
              "        vertical-align: middle;\n",
              "    }\n",
              "\n",
              "    .dataframe tbody tr th {\n",
              "        vertical-align: top;\n",
              "    }\n",
              "\n",
              "    .dataframe thead th {\n",
              "        text-align: right;\n",
              "    }\n",
              "</style>\n",
              "<table border=\"1\" class=\"dataframe\">\n",
              "  <thead>\n",
              "    <tr style=\"text-align: right;\">\n",
              "      <th></th>\n",
              "      <th>postal_code</th>\n",
              "      <th>city</th>\n",
              "    </tr>\n",
              "  </thead>\n",
              "  <tbody>\n",
              "    <tr>\n",
              "      <th>245</th>\n",
              "      <td>27217.0</td>\n",
              "      <td>Burlington, VT</td>\n",
              "    </tr>\n",
              "    <tr>\n",
              "      <th>481</th>\n",
              "      <td>27217.0</td>\n",
              "      <td>Burlington, NC</td>\n",
              "    </tr>\n",
              "  </tbody>\n",
              "</table>\n",
              "</div>\n",
              "    <div class=\"colab-df-buttons\">\n",
              "\n",
              "  <div class=\"colab-df-container\">\n",
              "    <button class=\"colab-df-convert\" onclick=\"convertToInteractive('df-c1f63264-09bc-4262-a43d-80fd67e906bd')\"\n",
              "            title=\"Convert this dataframe to an interactive table.\"\n",
              "            style=\"display:none;\">\n",
              "\n",
              "  <svg xmlns=\"http://www.w3.org/2000/svg\" height=\"24px\" viewBox=\"0 -960 960 960\">\n",
              "    <path d=\"M120-120v-720h720v720H120Zm60-500h600v-160H180v160Zm220 220h160v-160H400v160Zm0 220h160v-160H400v160ZM180-400h160v-160H180v160Zm440 0h160v-160H620v160ZM180-180h160v-160H180v160Zm440 0h160v-160H620v160Z\"/>\n",
              "  </svg>\n",
              "    </button>\n",
              "\n",
              "  <style>\n",
              "    .colab-df-container {\n",
              "      display:flex;\n",
              "      gap: 12px;\n",
              "    }\n",
              "\n",
              "    .colab-df-convert {\n",
              "      background-color: #E8F0FE;\n",
              "      border: none;\n",
              "      border-radius: 50%;\n",
              "      cursor: pointer;\n",
              "      display: none;\n",
              "      fill: #1967D2;\n",
              "      height: 32px;\n",
              "      padding: 0 0 0 0;\n",
              "      width: 32px;\n",
              "    }\n",
              "\n",
              "    .colab-df-convert:hover {\n",
              "      background-color: #E2EBFA;\n",
              "      box-shadow: 0px 1px 2px rgba(60, 64, 67, 0.3), 0px 1px 3px 1px rgba(60, 64, 67, 0.15);\n",
              "      fill: #174EA6;\n",
              "    }\n",
              "\n",
              "    .colab-df-buttons div {\n",
              "      margin-bottom: 4px;\n",
              "    }\n",
              "\n",
              "    [theme=dark] .colab-df-convert {\n",
              "      background-color: #3B4455;\n",
              "      fill: #D2E3FC;\n",
              "    }\n",
              "\n",
              "    [theme=dark] .colab-df-convert:hover {\n",
              "      background-color: #434B5C;\n",
              "      box-shadow: 0px 1px 3px 1px rgba(0, 0, 0, 0.15);\n",
              "      filter: drop-shadow(0px 1px 2px rgba(0, 0, 0, 0.3));\n",
              "      fill: #FFFFFF;\n",
              "    }\n",
              "  </style>\n",
              "\n",
              "    <script>\n",
              "      const buttonEl =\n",
              "        document.querySelector('#df-c1f63264-09bc-4262-a43d-80fd67e906bd button.colab-df-convert');\n",
              "      buttonEl.style.display =\n",
              "        google.colab.kernel.accessAllowed ? 'block' : 'none';\n",
              "\n",
              "      async function convertToInteractive(key) {\n",
              "        const element = document.querySelector('#df-c1f63264-09bc-4262-a43d-80fd67e906bd');\n",
              "        const dataTable =\n",
              "          await google.colab.kernel.invokeFunction('convertToInteractive',\n",
              "                                                    [key], {});\n",
              "        if (!dataTable) return;\n",
              "\n",
              "        const docLinkHtml = 'Like what you see? Visit the ' +\n",
              "          '<a target=\"_blank\" href=https://colab.research.google.com/notebooks/data_table.ipynb>data table notebook</a>'\n",
              "          + ' to learn more about interactive tables.';\n",
              "        element.innerHTML = '';\n",
              "        dataTable['output_type'] = 'display_data';\n",
              "        await google.colab.output.renderOutput(dataTable, element);\n",
              "        const docLink = document.createElement('div');\n",
              "        docLink.innerHTML = docLinkHtml;\n",
              "        element.appendChild(docLink);\n",
              "      }\n",
              "    </script>\n",
              "  </div>\n",
              "\n",
              "\n",
              "    <div id=\"df-55c79251-5307-4eaf-b70f-3f3bf66af42f\">\n",
              "      <button class=\"colab-df-quickchart\" onclick=\"quickchart('df-55c79251-5307-4eaf-b70f-3f3bf66af42f')\"\n",
              "                title=\"Suggest charts\"\n",
              "                style=\"display:none;\">\n",
              "\n",
              "<svg xmlns=\"http://www.w3.org/2000/svg\" height=\"24px\"viewBox=\"0 0 24 24\"\n",
              "     width=\"24px\">\n",
              "    <g>\n",
              "        <path d=\"M19 3H5c-1.1 0-2 .9-2 2v14c0 1.1.9 2 2 2h14c1.1 0 2-.9 2-2V5c0-1.1-.9-2-2-2zM9 17H7v-7h2v7zm4 0h-2V7h2v10zm4 0h-2v-4h2v4z\"/>\n",
              "    </g>\n",
              "</svg>\n",
              "      </button>\n",
              "\n",
              "<style>\n",
              "  .colab-df-quickchart {\n",
              "      --bg-color: #E8F0FE;\n",
              "      --fill-color: #1967D2;\n",
              "      --hover-bg-color: #E2EBFA;\n",
              "      --hover-fill-color: #174EA6;\n",
              "      --disabled-fill-color: #AAA;\n",
              "      --disabled-bg-color: #DDD;\n",
              "  }\n",
              "\n",
              "  [theme=dark] .colab-df-quickchart {\n",
              "      --bg-color: #3B4455;\n",
              "      --fill-color: #D2E3FC;\n",
              "      --hover-bg-color: #434B5C;\n",
              "      --hover-fill-color: #FFFFFF;\n",
              "      --disabled-bg-color: #3B4455;\n",
              "      --disabled-fill-color: #666;\n",
              "  }\n",
              "\n",
              "  .colab-df-quickchart {\n",
              "    background-color: var(--bg-color);\n",
              "    border: none;\n",
              "    border-radius: 50%;\n",
              "    cursor: pointer;\n",
              "    display: none;\n",
              "    fill: var(--fill-color);\n",
              "    height: 32px;\n",
              "    padding: 0;\n",
              "    width: 32px;\n",
              "  }\n",
              "\n",
              "  .colab-df-quickchart:hover {\n",
              "    background-color: var(--hover-bg-color);\n",
              "    box-shadow: 0 1px 2px rgba(60, 64, 67, 0.3), 0 1px 3px 1px rgba(60, 64, 67, 0.15);\n",
              "    fill: var(--button-hover-fill-color);\n",
              "  }\n",
              "\n",
              "  .colab-df-quickchart-complete:disabled,\n",
              "  .colab-df-quickchart-complete:disabled:hover {\n",
              "    background-color: var(--disabled-bg-color);\n",
              "    fill: var(--disabled-fill-color);\n",
              "    box-shadow: none;\n",
              "  }\n",
              "\n",
              "  .colab-df-spinner {\n",
              "    border: 2px solid var(--fill-color);\n",
              "    border-color: transparent;\n",
              "    border-bottom-color: var(--fill-color);\n",
              "    animation:\n",
              "      spin 1s steps(1) infinite;\n",
              "  }\n",
              "\n",
              "  @keyframes spin {\n",
              "    0% {\n",
              "      border-color: transparent;\n",
              "      border-bottom-color: var(--fill-color);\n",
              "      border-left-color: var(--fill-color);\n",
              "    }\n",
              "    20% {\n",
              "      border-color: transparent;\n",
              "      border-left-color: var(--fill-color);\n",
              "      border-top-color: var(--fill-color);\n",
              "    }\n",
              "    30% {\n",
              "      border-color: transparent;\n",
              "      border-left-color: var(--fill-color);\n",
              "      border-top-color: var(--fill-color);\n",
              "      border-right-color: var(--fill-color);\n",
              "    }\n",
              "    40% {\n",
              "      border-color: transparent;\n",
              "      border-right-color: var(--fill-color);\n",
              "      border-top-color: var(--fill-color);\n",
              "    }\n",
              "    60% {\n",
              "      border-color: transparent;\n",
              "      border-right-color: var(--fill-color);\n",
              "    }\n",
              "    80% {\n",
              "      border-color: transparent;\n",
              "      border-right-color: var(--fill-color);\n",
              "      border-bottom-color: var(--fill-color);\n",
              "    }\n",
              "    90% {\n",
              "      border-color: transparent;\n",
              "      border-bottom-color: var(--fill-color);\n",
              "    }\n",
              "  }\n",
              "</style>\n",
              "\n",
              "      <script>\n",
              "        async function quickchart(key) {\n",
              "          const quickchartButtonEl =\n",
              "            document.querySelector('#' + key + ' button');\n",
              "          quickchartButtonEl.disabled = true;  // To prevent multiple clicks.\n",
              "          quickchartButtonEl.classList.add('colab-df-spinner');\n",
              "          try {\n",
              "            const charts = await google.colab.kernel.invokeFunction(\n",
              "                'suggestCharts', [key], {});\n",
              "          } catch (error) {\n",
              "            console.error('Error during call to suggestCharts:', error);\n",
              "          }\n",
              "          quickchartButtonEl.classList.remove('colab-df-spinner');\n",
              "          quickchartButtonEl.classList.add('colab-df-quickchart-complete');\n",
              "        }\n",
              "        (() => {\n",
              "          let quickchartButtonEl =\n",
              "            document.querySelector('#df-55c79251-5307-4eaf-b70f-3f3bf66af42f button');\n",
              "          quickchartButtonEl.style.display =\n",
              "            google.colab.kernel.accessAllowed ? 'block' : 'none';\n",
              "        })();\n",
              "      </script>\n",
              "    </div>\n",
              "\n",
              "  <div id=\"id_f062fc0f-4211-41df-95fa-5b056aec339e\">\n",
              "    <style>\n",
              "      .colab-df-generate {\n",
              "        background-color: #E8F0FE;\n",
              "        border: none;\n",
              "        border-radius: 50%;\n",
              "        cursor: pointer;\n",
              "        display: none;\n",
              "        fill: #1967D2;\n",
              "        height: 32px;\n",
              "        padding: 0 0 0 0;\n",
              "        width: 32px;\n",
              "      }\n",
              "\n",
              "      .colab-df-generate:hover {\n",
              "        background-color: #E2EBFA;\n",
              "        box-shadow: 0px 1px 2px rgba(60, 64, 67, 0.3), 0px 1px 3px 1px rgba(60, 64, 67, 0.15);\n",
              "        fill: #174EA6;\n",
              "      }\n",
              "\n",
              "      [theme=dark] .colab-df-generate {\n",
              "        background-color: #3B4455;\n",
              "        fill: #D2E3FC;\n",
              "      }\n",
              "\n",
              "      [theme=dark] .colab-df-generate:hover {\n",
              "        background-color: #434B5C;\n",
              "        box-shadow: 0px 1px 3px 1px rgba(0, 0, 0, 0.15);\n",
              "        filter: drop-shadow(0px 1px 2px rgba(0, 0, 0, 0.3));\n",
              "        fill: #FFFFFF;\n",
              "      }\n",
              "    </style>\n",
              "    <button class=\"colab-df-generate\" onclick=\"generateWithVariable('rows_with_non_unique_postal_codes')\"\n",
              "            title=\"Generate code using this dataframe.\"\n",
              "            style=\"display:none;\">\n",
              "\n",
              "  <svg xmlns=\"http://www.w3.org/2000/svg\" height=\"24px\"viewBox=\"0 0 24 24\"\n",
              "       width=\"24px\">\n",
              "    <path d=\"M7,19H8.4L18.45,9,17,7.55,7,17.6ZM5,21V16.75L18.45,3.32a2,2,0,0,1,2.83,0l1.4,1.43a1.91,1.91,0,0,1,.58,1.4,1.91,1.91,0,0,1-.58,1.4L9.25,21ZM18.45,9,17,7.55Zm-12,3A5.31,5.31,0,0,0,4.9,8.1,5.31,5.31,0,0,0,1,6.5,5.31,5.31,0,0,0,4.9,4.9,5.31,5.31,0,0,0,6.5,1,5.31,5.31,0,0,0,8.1,4.9,5.31,5.31,0,0,0,12,6.5,5.46,5.46,0,0,0,6.5,12Z\"/>\n",
              "  </svg>\n",
              "    </button>\n",
              "    <script>\n",
              "      (() => {\n",
              "      const buttonEl =\n",
              "        document.querySelector('#id_f062fc0f-4211-41df-95fa-5b056aec339e button.colab-df-generate');\n",
              "      buttonEl.style.display =\n",
              "        google.colab.kernel.accessAllowed ? 'block' : 'none';\n",
              "\n",
              "      buttonEl.onclick = () => {\n",
              "        google.colab.notebook.generateWithVariable('rows_with_non_unique_postal_codes');\n",
              "      }\n",
              "      })();\n",
              "    </script>\n",
              "  </div>\n",
              "\n",
              "    </div>\n",
              "  </div>\n"
            ],
            "application/vnd.google.colaboratory.intrinsic+json": {
              "type": "dataframe",
              "variable_name": "rows_with_non_unique_postal_codes",
              "summary": "{\n  \"name\": \"rows_with_non_unique_postal_codes\",\n  \"rows\": 2,\n  \"fields\": [\n    {\n      \"column\": \"postal_code\",\n      \"properties\": {\n        \"dtype\": \"number\",\n        \"std\": 0.0,\n        \"min\": 27217.0,\n        \"max\": 27217.0,\n        \"num_unique_values\": 1,\n        \"samples\": [\n          27217.0\n        ],\n        \"semantic_type\": \"\",\n        \"description\": \"\"\n      }\n    },\n    {\n      \"column\": \"city\",\n      \"properties\": {\n        \"dtype\": \"string\",\n        \"num_unique_values\": 2,\n        \"samples\": [\n          \"Burlington, NC\"\n        ],\n        \"semantic_type\": \"\",\n        \"description\": \"\"\n      }\n    }\n  ]\n}"
            }
          },
          "metadata": {},
          "execution_count": 212
        }
      ]
    },
    {
      "cell_type": "code",
      "source": [
        "\n",
        "dim_cities = dim_cities[\n",
        "    ~((dim_cities['postal_code'] == 27217.0) & (dim_cities['city'] == 'Burlington, VT'))\n",
        "]\n",
        "print(dim_cities.head())\n",
        "print(dim_cities.info())\n",
        "duplicate_postal_codes = dim_cities[dim_cities.duplicated('postal_code', keep=False)]['postal_code'].unique()\n",
        "rows_with_non_unique_postal_codes = dim_cities[dim_cities['postal_code'].isin(duplicate_postal_codes)].sort_values(by='postal_code')\n",
        "print(\"Rows where postal_code is not unique in dim_cities:\")\n",
        "rows_with_non_unique_postal_codes"
      ],
      "metadata": {
        "colab": {
          "base_uri": "https://localhost:8080/",
          "height": 384
        },
        "collapsed": true,
        "id": "UFMRvsl2x5cV",
        "outputId": "7b584ad9-b8d1-40ea-b214-6a54b7f7fe31"
      },
      "execution_count": null,
      "outputs": [
        {
          "output_type": "stream",
          "name": "stdout",
          "text": [
            "   postal_code                 city\n",
            "0      33311.0  Fort Lauderdale, FL\n",
            "1      76106.0       Fort Worth, TX\n",
            "2      84057.0             Orem, UT\n",
            "3      19140.0     Philadelphia, PA\n",
            "4      77041.0          Houston, TX\n",
            "<class 'pandas.core.frame.DataFrame'>\n",
            "Index: 601 entries, 0 to 601\n",
            "Data columns (total 2 columns):\n",
            " #   Column       Non-Null Count  Dtype  \n",
            "---  ------       --------------  -----  \n",
            " 0   postal_code  601 non-null    float64\n",
            " 1   city         601 non-null    object \n",
            "dtypes: float64(1), object(1)\n",
            "memory usage: 14.1+ KB\n",
            "None\n",
            "Rows where postal_code is not unique in dim_cities:\n"
          ]
        },
        {
          "output_type": "execute_result",
          "data": {
            "text/plain": [
              "Empty DataFrame\n",
              "Columns: [postal_code, city]\n",
              "Index: []"
            ],
            "text/html": [
              "\n",
              "  <div id=\"df-e1accf51-543b-4588-8c0f-d96da4f5a774\" class=\"colab-df-container\">\n",
              "    <div>\n",
              "<style scoped>\n",
              "    .dataframe tbody tr th:only-of-type {\n",
              "        vertical-align: middle;\n",
              "    }\n",
              "\n",
              "    .dataframe tbody tr th {\n",
              "        vertical-align: top;\n",
              "    }\n",
              "\n",
              "    .dataframe thead th {\n",
              "        text-align: right;\n",
              "    }\n",
              "</style>\n",
              "<table border=\"1\" class=\"dataframe\">\n",
              "  <thead>\n",
              "    <tr style=\"text-align: right;\">\n",
              "      <th></th>\n",
              "      <th>postal_code</th>\n",
              "      <th>city</th>\n",
              "    </tr>\n",
              "  </thead>\n",
              "  <tbody>\n",
              "  </tbody>\n",
              "</table>\n",
              "</div>\n",
              "    <div class=\"colab-df-buttons\">\n",
              "\n",
              "  <div class=\"colab-df-container\">\n",
              "    <button class=\"colab-df-convert\" onclick=\"convertToInteractive('df-e1accf51-543b-4588-8c0f-d96da4f5a774')\"\n",
              "            title=\"Convert this dataframe to an interactive table.\"\n",
              "            style=\"display:none;\">\n",
              "\n",
              "  <svg xmlns=\"http://www.w3.org/2000/svg\" height=\"24px\" viewBox=\"0 -960 960 960\">\n",
              "    <path d=\"M120-120v-720h720v720H120Zm60-500h600v-160H180v160Zm220 220h160v-160H400v160Zm0 220h160v-160H400v160ZM180-400h160v-160H180v160Zm440 0h160v-160H620v160ZM180-180h160v-160H180v160Zm440 0h160v-160H620v160Z\"/>\n",
              "  </svg>\n",
              "    </button>\n",
              "\n",
              "  <style>\n",
              "    .colab-df-container {\n",
              "      display:flex;\n",
              "      gap: 12px;\n",
              "    }\n",
              "\n",
              "    .colab-df-convert {\n",
              "      background-color: #E8F0FE;\n",
              "      border: none;\n",
              "      border-radius: 50%;\n",
              "      cursor: pointer;\n",
              "      display: none;\n",
              "      fill: #1967D2;\n",
              "      height: 32px;\n",
              "      padding: 0 0 0 0;\n",
              "      width: 32px;\n",
              "    }\n",
              "\n",
              "    .colab-df-convert:hover {\n",
              "      background-color: #E2EBFA;\n",
              "      box-shadow: 0px 1px 2px rgba(60, 64, 67, 0.3), 0px 1px 3px 1px rgba(60, 64, 67, 0.15);\n",
              "      fill: #174EA6;\n",
              "    }\n",
              "\n",
              "    .colab-df-buttons div {\n",
              "      margin-bottom: 4px;\n",
              "    }\n",
              "\n",
              "    [theme=dark] .colab-df-convert {\n",
              "      background-color: #3B4455;\n",
              "      fill: #D2E3FC;\n",
              "    }\n",
              "\n",
              "    [theme=dark] .colab-df-convert:hover {\n",
              "      background-color: #434B5C;\n",
              "      box-shadow: 0px 1px 3px 1px rgba(0, 0, 0, 0.15);\n",
              "      filter: drop-shadow(0px 1px 2px rgba(0, 0, 0, 0.3));\n",
              "      fill: #FFFFFF;\n",
              "    }\n",
              "  </style>\n",
              "\n",
              "    <script>\n",
              "      const buttonEl =\n",
              "        document.querySelector('#df-e1accf51-543b-4588-8c0f-d96da4f5a774 button.colab-df-convert');\n",
              "      buttonEl.style.display =\n",
              "        google.colab.kernel.accessAllowed ? 'block' : 'none';\n",
              "\n",
              "      async function convertToInteractive(key) {\n",
              "        const element = document.querySelector('#df-e1accf51-543b-4588-8c0f-d96da4f5a774');\n",
              "        const dataTable =\n",
              "          await google.colab.kernel.invokeFunction('convertToInteractive',\n",
              "                                                    [key], {});\n",
              "        if (!dataTable) return;\n",
              "\n",
              "        const docLinkHtml = 'Like what you see? Visit the ' +\n",
              "          '<a target=\"_blank\" href=https://colab.research.google.com/notebooks/data_table.ipynb>data table notebook</a>'\n",
              "          + ' to learn more about interactive tables.';\n",
              "        element.innerHTML = '';\n",
              "        dataTable['output_type'] = 'display_data';\n",
              "        await google.colab.output.renderOutput(dataTable, element);\n",
              "        const docLink = document.createElement('div');\n",
              "        docLink.innerHTML = docLinkHtml;\n",
              "        element.appendChild(docLink);\n",
              "      }\n",
              "    </script>\n",
              "  </div>\n",
              "\n",
              "\n",
              "  <div id=\"id_d1336b2d-3be1-4254-a680-6f6e665b8ec2\">\n",
              "    <style>\n",
              "      .colab-df-generate {\n",
              "        background-color: #E8F0FE;\n",
              "        border: none;\n",
              "        border-radius: 50%;\n",
              "        cursor: pointer;\n",
              "        display: none;\n",
              "        fill: #1967D2;\n",
              "        height: 32px;\n",
              "        padding: 0 0 0 0;\n",
              "        width: 32px;\n",
              "      }\n",
              "\n",
              "      .colab-df-generate:hover {\n",
              "        background-color: #E2EBFA;\n",
              "        box-shadow: 0px 1px 2px rgba(60, 64, 67, 0.3), 0px 1px 3px 1px rgba(60, 64, 67, 0.15);\n",
              "        fill: #174EA6;\n",
              "      }\n",
              "\n",
              "      [theme=dark] .colab-df-generate {\n",
              "        background-color: #3B4455;\n",
              "        fill: #D2E3FC;\n",
              "      }\n",
              "\n",
              "      [theme=dark] .colab-df-generate:hover {\n",
              "        background-color: #434B5C;\n",
              "        box-shadow: 0px 1px 3px 1px rgba(0, 0, 0, 0.15);\n",
              "        filter: drop-shadow(0px 1px 2px rgba(0, 0, 0, 0.3));\n",
              "        fill: #FFFFFF;\n",
              "      }\n",
              "    </style>\n",
              "    <button class=\"colab-df-generate\" onclick=\"generateWithVariable('rows_with_non_unique_postal_codes')\"\n",
              "            title=\"Generate code using this dataframe.\"\n",
              "            style=\"display:none;\">\n",
              "\n",
              "  <svg xmlns=\"http://www.w3.org/2000/svg\" height=\"24px\"viewBox=\"0 0 24 24\"\n",
              "       width=\"24px\">\n",
              "    <path d=\"M7,19H8.4L18.45,9,17,7.55,7,17.6ZM5,21V16.75L18.45,3.32a2,2,0,0,1,2.83,0l1.4,1.43a1.91,1.91,0,0,1,.58,1.4,1.91,1.91,0,0,1-.58,1.4L9.25,21ZM18.45,9,17,7.55Zm-12,3A5.31,5.31,0,0,0,4.9,8.1,5.31,5.31,0,0,0,1,6.5,5.31,5.31,0,0,0,4.9,4.9,5.31,5.31,0,0,0,6.5,1,5.31,5.31,0,0,0,8.1,4.9,5.31,5.31,0,0,0,12,6.5,5.46,5.46,0,0,0,6.5,12Z\"/>\n",
              "  </svg>\n",
              "    </button>\n",
              "    <script>\n",
              "      (() => {\n",
              "      const buttonEl =\n",
              "        document.querySelector('#id_d1336b2d-3be1-4254-a680-6f6e665b8ec2 button.colab-df-generate');\n",
              "      buttonEl.style.display =\n",
              "        google.colab.kernel.accessAllowed ? 'block' : 'none';\n",
              "\n",
              "      buttonEl.onclick = () => {\n",
              "        google.colab.notebook.generateWithVariable('rows_with_non_unique_postal_codes');\n",
              "      }\n",
              "      })();\n",
              "    </script>\n",
              "  </div>\n",
              "\n",
              "    </div>\n",
              "  </div>\n"
            ],
            "application/vnd.google.colaboratory.intrinsic+json": {
              "type": "dataframe",
              "variable_name": "rows_with_non_unique_postal_codes",
              "repr_error": "Out of range float values are not JSON compliant: nan"
            }
          },
          "metadata": {},
          "execution_count": 213
        }
      ]
    },
    {
      "cell_type": "code",
      "source": [
        "\n",
        "df_all_years = df_all_years[\n",
        "    ~((df_all_years['postal_code'] == 27217.0) & (df_all_years['city'] == 'Burlington, VT'))\n",
        "]"
      ],
      "metadata": {
        "id": "8E-O-Mg9yT68"
      },
      "execution_count": null,
      "outputs": []
    },
    {
      "cell_type": "markdown",
      "source": [
        "create dim_states"
      ],
      "metadata": {
        "id": "8na8W466y4SU"
      }
    },
    {
      "cell_type": "code",
      "source": [
        "\n",
        "dim_states = df_all_years[['city', 'state']].drop_duplicates(subset=['city']).reset_index(drop=True)\n",
        "\n",
        "# Display the first few rows of dim_states\n",
        "print(dim_states.head())\n",
        "\n",
        "# Display information about dim_states\n",
        "print(dim_states.info())\n",
        "\n",
        "# Check if city is unique in dim_states\n",
        "if dim_states['city'].is_unique:\n",
        "    print(\"\\nCity is unique in dim_states.\")\n",
        "else:\n",
        "    print(\"\\nCity is NOT unique in dim_states. Inspecting duplicates:\")\n",
        "    duplicate_cities = dim_states[dim_states.duplicated('city', keep=False)]\n",
        "    print(duplicate_cities.sort_values(by='city'))"
      ],
      "metadata": {
        "colab": {
          "base_uri": "https://localhost:8080/"
        },
        "collapsed": true,
        "id": "GrHmQJE7y7zk",
        "outputId": "1c04123c-5d45-46e6-a44c-3af957594707"
      },
      "execution_count": null,
      "outputs": [
        {
          "output_type": "stream",
          "name": "stdout",
          "text": [
            "                  city         state\n",
            "0  Fort Lauderdale, FL       Florida\n",
            "1       Fort Worth, TX         Texas\n",
            "2             Orem, UT          Utah\n",
            "3     Philadelphia, PA  Pennsylvania\n",
            "4          Houston, TX         Texas\n",
            "<class 'pandas.core.frame.DataFrame'>\n",
            "RangeIndex: 573 entries, 0 to 572\n",
            "Data columns (total 2 columns):\n",
            " #   Column  Non-Null Count  Dtype \n",
            "---  ------  --------------  ----- \n",
            " 0   city    573 non-null    object\n",
            " 1   state   573 non-null    object\n",
            "dtypes: object(2)\n",
            "memory usage: 9.1+ KB\n",
            "None\n",
            "\n",
            "City is unique in dim_states.\n"
          ]
        }
      ]
    },
    {
      "cell_type": "markdown",
      "source": [
        "create dim_region table"
      ],
      "metadata": {
        "id": "xono0MWWzcFu"
      }
    },
    {
      "cell_type": "code",
      "source": [
        "\n",
        "dim_region = df_all_years[['state', 'region']].drop_duplicates(subset=['state']).reset_index(drop=True)\n",
        "# Display the first few rows of dim_region\n",
        "print(dim_region.head())\n",
        "# Display information about dim_region\n",
        "print(dim_region.info())\n",
        "# Check if state is unique in dim_region\n",
        "if dim_region['state'].is_unique:\n",
        "    print(\"\\nState is unique in dim_region.\")\n",
        "else:\n",
        "    print(\"\\nState is NOT unique in dim_region. Inspecting duplicates:\")\n",
        "    duplicate_states = dim_region[dim_region.duplicated('state', keep=False)]\n",
        "    print(duplicate_states.sort_values(by='state'))"
      ],
      "metadata": {
        "colab": {
          "base_uri": "https://localhost:8080/"
        },
        "id": "hPyFbd1AzeLZ",
        "outputId": "569bfb77-4b69-4030-922b-8e992551d056"
      },
      "execution_count": null,
      "outputs": [
        {
          "output_type": "stream",
          "name": "stdout",
          "text": [
            "          state   region\n",
            "0       Florida    South\n",
            "1         Texas  Central\n",
            "2          Utah     West\n",
            "3  Pennsylvania     East\n",
            "4       Indiana  Central\n",
            "<class 'pandas.core.frame.DataFrame'>\n",
            "RangeIndex: 48 entries, 0 to 47\n",
            "Data columns (total 2 columns):\n",
            " #   Column  Non-Null Count  Dtype \n",
            "---  ------  --------------  ----- \n",
            " 0   state   48 non-null     object\n",
            " 1   region  48 non-null     object\n",
            "dtypes: object(2)\n",
            "memory usage: 900.0+ bytes\n",
            "None\n",
            "\n",
            "State is unique in dim_region.\n"
          ]
        }
      ]
    },
    {
      "cell_type": "markdown",
      "source": [
        "dim_customers"
      ],
      "metadata": {
        "id": "JVnLoOuV0S1e"
      }
    },
    {
      "cell_type": "code",
      "source": [
        "\n",
        "dim_customers = df_all_years[['customer_id', 'customer_name', 'segment']].drop_duplicates(subset=['customer_id']).reset_index(drop=True)\n",
        "\n",
        "# Display the first few rows of dim_customers\n",
        "print(dim_customers.head())\n",
        "\n",
        "# Display information about dim_customers\n",
        "print(dim_customers.info())\n",
        "\n",
        "# Check if customer_id is unique in dim_customers\n",
        "if dim_customers['customer_id'].is_unique:\n",
        "    print(\"\\nCustomer ID is unique in dim_customers.\")\n",
        "else:\n",
        "    print(\"\\nCustomer ID is NOT unique in dim_customers. Inspecting duplicates:\")\n",
        "    duplicate_customer_ids = dim_customers[dim_customers.duplicated('customer_id', keep=False)]\n",
        "    print(duplicate_customer_ids.sort_values(by='customer_id'))"
      ],
      "metadata": {
        "colab": {
          "base_uri": "https://localhost:8080/"
        },
        "id": "X40EYMjaz17V",
        "outputId": "8f448c68-73ed-42f0-f125-548ca8c8afe5"
      },
      "execution_count": null,
      "outputs": [
        {
          "output_type": "stream",
          "name": "stdout",
          "text": [
            "  customer_id    customer_name      segment\n",
            "0    SO-20335   Sean O'Donnell     Consumer\n",
            "1    HP-14815    Harold Pawlan  Home Office\n",
            "2    EB-13870      Emily Burns     Consumer\n",
            "3    TB-21520  Tracy Blumstein     Consumer\n",
            "4    SN-20710     Steve Nguyen  Home Office\n",
            "<class 'pandas.core.frame.DataFrame'>\n",
            "RangeIndex: 790 entries, 0 to 789\n",
            "Data columns (total 3 columns):\n",
            " #   Column         Non-Null Count  Dtype \n",
            "---  ------         --------------  ----- \n",
            " 0   customer_id    790 non-null    object\n",
            " 1   customer_name  790 non-null    object\n",
            " 2   segment        790 non-null    object\n",
            "dtypes: object(3)\n",
            "memory usage: 18.6+ KB\n",
            "None\n",
            "\n",
            "Customer ID is unique in dim_customers.\n"
          ]
        }
      ]
    },
    {
      "cell_type": "markdown",
      "source": [
        "dim_products"
      ],
      "metadata": {
        "id": "Kvp3HWkh0fr0"
      }
    },
    {
      "cell_type": "code",
      "source": [
        "\n",
        "dim_products = df_all_years[['product_name', 'sub_category']].drop_duplicates().reset_index(drop=True)\n",
        "\n",
        "# Display the first few rows of dim_products\n",
        "print(dim_products.head())\n",
        "\n",
        "# Display information about dim_products\n",
        "print(dim_products.info())\n",
        "\n",
        "# Check if product_name is unique in dim_products\n",
        "if dim_products['product_name'].is_unique:\n",
        "    print(\"\\nProduct_name is unique in dim_products.\")\n",
        "else:\n",
        "    print(\"\\nProduct_name is NOT unique in dim_products. Inspecting duplicates:\")\n",
        "    duplicate_product_names = dim_products[dim_products.duplicated('product_name', keep=False)]\n",
        "    print(duplicate_product_names.sort_values(by='product_name'))"
      ],
      "metadata": {
        "colab": {
          "base_uri": "https://localhost:8080/"
        },
        "id": "Eg0meORF11bE",
        "outputId": "174e9694-30e9-4fc3-ef32-b7cdde55c497"
      },
      "execution_count": null,
      "outputs": [
        {
          "output_type": "stream",
          "name": "stdout",
          "text": [
            "                                        product_name sub_category\n",
            "0      Bretford CR4500 Series Slim Rectangular Table       Tables\n",
            "1                     Eldon Fold 'N Roll Cart System      Storage\n",
            "2  Holmes Replacement Filter for HEPA Air Cleaner...   Appliances\n",
            "3   Storex DuraTech Recycled Plastic Frosted Binders      Binders\n",
            "4  Riverside Palais Royal Lawyers Bookcase, Royal...    Bookcases\n",
            "<class 'pandas.core.frame.DataFrame'>\n",
            "RangeIndex: 1809 entries, 0 to 1808\n",
            "Data columns (total 2 columns):\n",
            " #   Column        Non-Null Count  Dtype \n",
            "---  ------        --------------  ----- \n",
            " 0   product_name  1809 non-null   object\n",
            " 1   sub_category  1809 non-null   object\n",
            "dtypes: object(2)\n",
            "memory usage: 28.4+ KB\n",
            "None\n",
            "\n",
            "Product_name is unique in dim_products.\n"
          ]
        }
      ]
    },
    {
      "cell_type": "markdown",
      "source": [
        "dim_category"
      ],
      "metadata": {
        "id": "k95-Vy8l2GdD"
      }
    },
    {
      "cell_type": "code",
      "source": [
        "\n",
        "dim_category = df_all_years[['sub_category', 'category']].drop_duplicates().reset_index(drop=True)\n",
        "\n",
        "# Display the first few rows of dim_category\n",
        "print(dim_category.head())\n",
        "\n",
        "# Display information about dim_category\n",
        "print(dim_category.info())"
      ],
      "metadata": {
        "colab": {
          "base_uri": "https://localhost:8080/"
        },
        "id": "-fL0enJG2GBM",
        "outputId": "0fc49d45-cb88-4932-f560-56f52331ce4b"
      },
      "execution_count": null,
      "outputs": [
        {
          "output_type": "stream",
          "name": "stdout",
          "text": [
            "  sub_category         category\n",
            "0       Tables        Furniture\n",
            "1      Storage  Office Supplies\n",
            "2   Appliances  Office Supplies\n",
            "3      Binders  Office Supplies\n",
            "4    Bookcases        Furniture\n",
            "<class 'pandas.core.frame.DataFrame'>\n",
            "RangeIndex: 17 entries, 0 to 16\n",
            "Data columns (total 2 columns):\n",
            " #   Column        Non-Null Count  Dtype \n",
            "---  ------        --------------  ----- \n",
            " 0   sub_category  17 non-null     object\n",
            " 1   category      17 non-null     object\n",
            "dtypes: object(2)\n",
            "memory usage: 404.0+ bytes\n",
            "None\n"
          ]
        }
      ]
    },
    {
      "cell_type": "code",
      "source": [
        "\n",
        "fact_sales = df_all_years"
      ],
      "metadata": {
        "id": "6hi3AhyE2wFv"
      },
      "execution_count": null,
      "outputs": []
    },
    {
      "cell_type": "code",
      "source": [
        "\n",
        "columns_to_drop = [\n",
        "    'order_date', 'ship_date', 'ship_mode', 'customer_id',\n",
        "    'customer_name', 'segment', 'state', 'postal_code', 'region',\n",
        "    'product_id', 'category', 'sub_category', 'city'\n",
        "]\n",
        "df_all_years = df_all_years.drop(columns=columns_to_drop)\n",
        "\n",
        "df_all_years.columns"
      ],
      "metadata": {
        "colab": {
          "base_uri": "https://localhost:8080/"
        },
        "id": "qlLwqjIV3TjS",
        "outputId": "2483c90b-e6d9-446e-98b7-e2652b4c54b7"
      },
      "execution_count": null,
      "outputs": [
        {
          "output_type": "execute_result",
          "data": {
            "text/plain": [
              "Index(['order_id', 'product_name', 'sales', 'quantity', 'discount', 'profit',\n",
              "       'product_ordered_id'],\n",
              "      dtype='object')"
            ]
          },
          "metadata": {},
          "execution_count": 223
        }
      ]
    },
    {
      "cell_type": "markdown",
      "source": [
        "Save as csvs"
      ],
      "metadata": {
        "id": "eStDbG2j3orM"
      }
    },
    {
      "cell_type": "code",
      "source": [
        "\n",
        "from google.colab import files\n",
        "\n",
        "dfs_to_save = {\n",
        "    'df_all_years.csv': df_all_years,\n",
        "    'dim_orders.csv': dim_orders,\n",
        "    'dim_cities.csv': dim_cities,\n",
        "    'dim_states.csv': dim_states,\n",
        "    'dim_region.csv': dim_region,\n",
        "    'dim_customers.csv': dim_customers,\n",
        "    'dim_products.csv': dim_products,\n",
        "    'dim_category.csv': dim_category,\n",
        "    'sales_reps.csv': sales_reps\n",
        "}\n",
        "\n",
        "for filename, df in dfs_to_save.items():\n",
        "  try:\n",
        "    df.to_csv(filename, index=False)\n",
        "    print(f\"Saved {filename}\")\n",
        "    files.download(filename)\n",
        "    print(f\"Downloaded {filename}\")\n",
        "  except Exception as e:\n",
        "    print(f\"Error saving/downloading {filename}: {e}\")\n",
        "    print(f\"DataFrame {filename} columns: {df.columns.tolist()}\")\n",
        "\n"
      ],
      "metadata": {
        "colab": {
          "base_uri": "https://localhost:8080/",
          "height": 329
        },
        "id": "oxBy565x3pMF",
        "outputId": "20c7a40c-cbd1-4384-d32a-14a106a3f7c2"
      },
      "execution_count": null,
      "outputs": [
        {
          "output_type": "stream",
          "name": "stdout",
          "text": [
            "Saved df_all_years.csv\n"
          ]
        },
        {
          "output_type": "display_data",
          "data": {
            "text/plain": [
              "<IPython.core.display.Javascript object>"
            ],
            "application/javascript": [
              "\n",
              "    async function download(id, filename, size) {\n",
              "      if (!google.colab.kernel.accessAllowed) {\n",
              "        return;\n",
              "      }\n",
              "      const div = document.createElement('div');\n",
              "      const label = document.createElement('label');\n",
              "      label.textContent = `Downloading \"${filename}\": `;\n",
              "      div.appendChild(label);\n",
              "      const progress = document.createElement('progress');\n",
              "      progress.max = size;\n",
              "      div.appendChild(progress);\n",
              "      document.body.appendChild(div);\n",
              "\n",
              "      const buffers = [];\n",
              "      let downloaded = 0;\n",
              "\n",
              "      const channel = await google.colab.kernel.comms.open(id);\n",
              "      // Send a message to notify the kernel that we're ready.\n",
              "      channel.send({})\n",
              "\n",
              "      for await (const message of channel.messages) {\n",
              "        // Send a message to notify the kernel that we're ready.\n",
              "        channel.send({})\n",
              "        if (message.buffers) {\n",
              "          for (const buffer of message.buffers) {\n",
              "            buffers.push(buffer);\n",
              "            downloaded += buffer.byteLength;\n",
              "            progress.value = downloaded;\n",
              "          }\n",
              "        }\n",
              "      }\n",
              "      const blob = new Blob(buffers, {type: 'application/binary'});\n",
              "      const a = document.createElement('a');\n",
              "      a.href = window.URL.createObjectURL(blob);\n",
              "      a.download = filename;\n",
              "      div.appendChild(a);\n",
              "      a.click();\n",
              "      div.remove();\n",
              "    }\n",
              "  "
            ]
          },
          "metadata": {}
        },
        {
          "output_type": "display_data",
          "data": {
            "text/plain": [
              "<IPython.core.display.Javascript object>"
            ],
            "application/javascript": [
              "download(\"download_523a662d-da5e-42d3-9e91-2ac701a2a9ef\", \"df_all_years.csv\", 624382)"
            ]
          },
          "metadata": {}
        },
        {
          "output_type": "stream",
          "name": "stdout",
          "text": [
            "Downloaded df_all_years.csv\n",
            "Saved dim_orders.csv\n"
          ]
        },
        {
          "output_type": "display_data",
          "data": {
            "text/plain": [
              "<IPython.core.display.Javascript object>"
            ],
            "application/javascript": [
              "\n",
              "    async function download(id, filename, size) {\n",
              "      if (!google.colab.kernel.accessAllowed) {\n",
              "        return;\n",
              "      }\n",
              "      const div = document.createElement('div');\n",
              "      const label = document.createElement('label');\n",
              "      label.textContent = `Downloading \"${filename}\": `;\n",
              "      div.appendChild(label);\n",
              "      const progress = document.createElement('progress');\n",
              "      progress.max = size;\n",
              "      div.appendChild(progress);\n",
              "      document.body.appendChild(div);\n",
              "\n",
              "      const buffers = [];\n",
              "      let downloaded = 0;\n",
              "\n",
              "      const channel = await google.colab.kernel.comms.open(id);\n",
              "      // Send a message to notify the kernel that we're ready.\n",
              "      channel.send({})\n",
              "\n",
              "      for await (const message of channel.messages) {\n",
              "        // Send a message to notify the kernel that we're ready.\n",
              "        channel.send({})\n",
              "        if (message.buffers) {\n",
              "          for (const buffer of message.buffers) {\n",
              "            buffers.push(buffer);\n",
              "            downloaded += buffer.byteLength;\n",
              "            progress.value = downloaded;\n",
              "          }\n",
              "        }\n",
              "      }\n",
              "      const blob = new Blob(buffers, {type: 'application/binary'});\n",
              "      const a = document.createElement('a');\n",
              "      a.href = window.URL.createObjectURL(blob);\n",
              "      a.download = filename;\n",
              "      div.appendChild(a);\n",
              "      a.click();\n",
              "      div.remove();\n",
              "    }\n",
              "  "
            ]
          },
          "metadata": {}
        },
        {
          "output_type": "display_data",
          "data": {
            "text/plain": [
              "<IPython.core.display.Javascript object>"
            ],
            "application/javascript": [
              "download(\"download_c3524ec5-99ba-4614-a803-53d5302097c5\", \"dim_orders.csv\", 273743)"
            ]
          },
          "metadata": {}
        },
        {
          "output_type": "stream",
          "name": "stdout",
          "text": [
            "Downloaded dim_orders.csv\n",
            "Saved dim_cities.csv\n"
          ]
        },
        {
          "output_type": "display_data",
          "data": {
            "text/plain": [
              "<IPython.core.display.Javascript object>"
            ],
            "application/javascript": [
              "\n",
              "    async function download(id, filename, size) {\n",
              "      if (!google.colab.kernel.accessAllowed) {\n",
              "        return;\n",
              "      }\n",
              "      const div = document.createElement('div');\n",
              "      const label = document.createElement('label');\n",
              "      label.textContent = `Downloading \"${filename}\": `;\n",
              "      div.appendChild(label);\n",
              "      const progress = document.createElement('progress');\n",
              "      progress.max = size;\n",
              "      div.appendChild(progress);\n",
              "      document.body.appendChild(div);\n",
              "\n",
              "      const buffers = [];\n",
              "      let downloaded = 0;\n",
              "\n",
              "      const channel = await google.colab.kernel.comms.open(id);\n",
              "      // Send a message to notify the kernel that we're ready.\n",
              "      channel.send({})\n",
              "\n",
              "      for await (const message of channel.messages) {\n",
              "        // Send a message to notify the kernel that we're ready.\n",
              "        channel.send({})\n",
              "        if (message.buffers) {\n",
              "          for (const buffer of message.buffers) {\n",
              "            buffers.push(buffer);\n",
              "            downloaded += buffer.byteLength;\n",
              "            progress.value = downloaded;\n",
              "          }\n",
              "        }\n",
              "      }\n",
              "      const blob = new Blob(buffers, {type: 'application/binary'});\n",
              "      const a = document.createElement('a');\n",
              "      a.href = window.URL.createObjectURL(blob);\n",
              "      a.download = filename;\n",
              "      div.appendChild(a);\n",
              "      a.click();\n",
              "      div.remove();\n",
              "    }\n",
              "  "
            ]
          },
          "metadata": {}
        },
        {
          "output_type": "display_data",
          "data": {
            "text/plain": [
              "<IPython.core.display.Javascript object>"
            ],
            "application/javascript": [
              "download(\"download_8cf05576-636b-4f31-96f7-7b6cff899428\", \"dim_cities.csv\", 14278)"
            ]
          },
          "metadata": {}
        },
        {
          "output_type": "stream",
          "name": "stdout",
          "text": [
            "Downloaded dim_cities.csv\n",
            "Saved dim_states.csv\n"
          ]
        },
        {
          "output_type": "display_data",
          "data": {
            "text/plain": [
              "<IPython.core.display.Javascript object>"
            ],
            "application/javascript": [
              "\n",
              "    async function download(id, filename, size) {\n",
              "      if (!google.colab.kernel.accessAllowed) {\n",
              "        return;\n",
              "      }\n",
              "      const div = document.createElement('div');\n",
              "      const label = document.createElement('label');\n",
              "      label.textContent = `Downloading \"${filename}\": `;\n",
              "      div.appendChild(label);\n",
              "      const progress = document.createElement('progress');\n",
              "      progress.max = size;\n",
              "      div.appendChild(progress);\n",
              "      document.body.appendChild(div);\n",
              "\n",
              "      const buffers = [];\n",
              "      let downloaded = 0;\n",
              "\n",
              "      const channel = await google.colab.kernel.comms.open(id);\n",
              "      // Send a message to notify the kernel that we're ready.\n",
              "      channel.send({})\n",
              "\n",
              "      for await (const message of channel.messages) {\n",
              "        // Send a message to notify the kernel that we're ready.\n",
              "        channel.send({})\n",
              "        if (message.buffers) {\n",
              "          for (const buffer of message.buffers) {\n",
              "            buffers.push(buffer);\n",
              "            downloaded += buffer.byteLength;\n",
              "            progress.value = downloaded;\n",
              "          }\n",
              "        }\n",
              "      }\n",
              "      const blob = new Blob(buffers, {type: 'application/binary'});\n",
              "      const a = document.createElement('a');\n",
              "      a.href = window.URL.createObjectURL(blob);\n",
              "      a.download = filename;\n",
              "      div.appendChild(a);\n",
              "      a.click();\n",
              "      div.remove();\n",
              "    }\n",
              "  "
            ]
          },
          "metadata": {}
        },
        {
          "output_type": "display_data",
          "data": {
            "text/plain": [
              "<IPython.core.display.Javascript object>"
            ],
            "application/javascript": [
              "download(\"download_a5d0169c-8cf0-4e25-ad27-9c44c6d31975\", \"dim_states.csv\", 14364)"
            ]
          },
          "metadata": {}
        },
        {
          "output_type": "stream",
          "name": "stdout",
          "text": [
            "Downloaded dim_states.csv\n",
            "Saved dim_region.csv\n"
          ]
        },
        {
          "output_type": "display_data",
          "data": {
            "text/plain": [
              "<IPython.core.display.Javascript object>"
            ],
            "application/javascript": [
              "\n",
              "    async function download(id, filename, size) {\n",
              "      if (!google.colab.kernel.accessAllowed) {\n",
              "        return;\n",
              "      }\n",
              "      const div = document.createElement('div');\n",
              "      const label = document.createElement('label');\n",
              "      label.textContent = `Downloading \"${filename}\": `;\n",
              "      div.appendChild(label);\n",
              "      const progress = document.createElement('progress');\n",
              "      progress.max = size;\n",
              "      div.appendChild(progress);\n",
              "      document.body.appendChild(div);\n",
              "\n",
              "      const buffers = [];\n",
              "      let downloaded = 0;\n",
              "\n",
              "      const channel = await google.colab.kernel.comms.open(id);\n",
              "      // Send a message to notify the kernel that we're ready.\n",
              "      channel.send({})\n",
              "\n",
              "      for await (const message of channel.messages) {\n",
              "        // Send a message to notify the kernel that we're ready.\n",
              "        channel.send({})\n",
              "        if (message.buffers) {\n",
              "          for (const buffer of message.buffers) {\n",
              "            buffers.push(buffer);\n",
              "            downloaded += buffer.byteLength;\n",
              "            progress.value = downloaded;\n",
              "          }\n",
              "        }\n",
              "      }\n",
              "      const blob = new Blob(buffers, {type: 'application/binary'});\n",
              "      const a = document.createElement('a');\n",
              "      a.href = window.URL.createObjectURL(blob);\n",
              "      a.download = filename;\n",
              "      div.appendChild(a);\n",
              "      a.click();\n",
              "      div.remove();\n",
              "    }\n",
              "  "
            ]
          },
          "metadata": {}
        },
        {
          "output_type": "display_data",
          "data": {
            "text/plain": [
              "<IPython.core.display.Javascript object>"
            ],
            "application/javascript": [
              "download(\"download_6b085ea7-a675-464b-be31-cec9cf2a6244\", \"dim_region.csv\", 774)"
            ]
          },
          "metadata": {}
        },
        {
          "output_type": "stream",
          "name": "stdout",
          "text": [
            "Downloaded dim_region.csv\n",
            "Saved dim_customers.csv\n"
          ]
        },
        {
          "output_type": "display_data",
          "data": {
            "text/plain": [
              "<IPython.core.display.Javascript object>"
            ],
            "application/javascript": [
              "\n",
              "    async function download(id, filename, size) {\n",
              "      if (!google.colab.kernel.accessAllowed) {\n",
              "        return;\n",
              "      }\n",
              "      const div = document.createElement('div');\n",
              "      const label = document.createElement('label');\n",
              "      label.textContent = `Downloading \"${filename}\": `;\n",
              "      div.appendChild(label);\n",
              "      const progress = document.createElement('progress');\n",
              "      progress.max = size;\n",
              "      div.appendChild(progress);\n",
              "      document.body.appendChild(div);\n",
              "\n",
              "      const buffers = [];\n",
              "      let downloaded = 0;\n",
              "\n",
              "      const channel = await google.colab.kernel.comms.open(id);\n",
              "      // Send a message to notify the kernel that we're ready.\n",
              "      channel.send({})\n",
              "\n",
              "      for await (const message of channel.messages) {\n",
              "        // Send a message to notify the kernel that we're ready.\n",
              "        channel.send({})\n",
              "        if (message.buffers) {\n",
              "          for (const buffer of message.buffers) {\n",
              "            buffers.push(buffer);\n",
              "            downloaded += buffer.byteLength;\n",
              "            progress.value = downloaded;\n",
              "          }\n",
              "        }\n",
              "      }\n",
              "      const blob = new Blob(buffers, {type: 'application/binary'});\n",
              "      const a = document.createElement('a');\n",
              "      a.href = window.URL.createObjectURL(blob);\n",
              "      a.download = filename;\n",
              "      div.appendChild(a);\n",
              "      a.click();\n",
              "      div.remove();\n",
              "    }\n",
              "  "
            ]
          },
          "metadata": {}
        },
        {
          "output_type": "display_data",
          "data": {
            "text/plain": [
              "<IPython.core.display.Javascript object>"
            ],
            "application/javascript": [
              "download(\"download_40c864ac-1765-411b-8a54-5c029ddbbe13\", \"dim_customers.csv\", 25950)"
            ]
          },
          "metadata": {}
        },
        {
          "output_type": "stream",
          "name": "stdout",
          "text": [
            "Downloaded dim_customers.csv\n",
            "Saved dim_products.csv\n"
          ]
        },
        {
          "output_type": "display_data",
          "data": {
            "text/plain": [
              "<IPython.core.display.Javascript object>"
            ],
            "application/javascript": [
              "\n",
              "    async function download(id, filename, size) {\n",
              "      if (!google.colab.kernel.accessAllowed) {\n",
              "        return;\n",
              "      }\n",
              "      const div = document.createElement('div');\n",
              "      const label = document.createElement('label');\n",
              "      label.textContent = `Downloading \"${filename}\": `;\n",
              "      div.appendChild(label);\n",
              "      const progress = document.createElement('progress');\n",
              "      progress.max = size;\n",
              "      div.appendChild(progress);\n",
              "      document.body.appendChild(div);\n",
              "\n",
              "      const buffers = [];\n",
              "      let downloaded = 0;\n",
              "\n",
              "      const channel = await google.colab.kernel.comms.open(id);\n",
              "      // Send a message to notify the kernel that we're ready.\n",
              "      channel.send({})\n",
              "\n",
              "      for await (const message of channel.messages) {\n",
              "        // Send a message to notify the kernel that we're ready.\n",
              "        channel.send({})\n",
              "        if (message.buffers) {\n",
              "          for (const buffer of message.buffers) {\n",
              "            buffers.push(buffer);\n",
              "            downloaded += buffer.byteLength;\n",
              "            progress.value = downloaded;\n",
              "          }\n",
              "        }\n",
              "      }\n",
              "      const blob = new Blob(buffers, {type: 'application/binary'});\n",
              "      const a = document.createElement('a');\n",
              "      a.href = window.URL.createObjectURL(blob);\n",
              "      a.download = filename;\n",
              "      div.appendChild(a);\n",
              "      a.click();\n",
              "      div.remove();\n",
              "    }\n",
              "  "
            ]
          },
          "metadata": {}
        },
        {
          "output_type": "display_data",
          "data": {
            "text/plain": [
              "<IPython.core.display.Javascript object>"
            ],
            "application/javascript": [
              "download(\"download_4b01a0ad-6b52-4553-a70e-7a7556908056\", \"dim_products.csv\", 85548)"
            ]
          },
          "metadata": {}
        },
        {
          "output_type": "stream",
          "name": "stdout",
          "text": [
            "Downloaded dim_products.csv\n",
            "Saved dim_category.csv\n"
          ]
        },
        {
          "output_type": "display_data",
          "data": {
            "text/plain": [
              "<IPython.core.display.Javascript object>"
            ],
            "application/javascript": [
              "\n",
              "    async function download(id, filename, size) {\n",
              "      if (!google.colab.kernel.accessAllowed) {\n",
              "        return;\n",
              "      }\n",
              "      const div = document.createElement('div');\n",
              "      const label = document.createElement('label');\n",
              "      label.textContent = `Downloading \"${filename}\": `;\n",
              "      div.appendChild(label);\n",
              "      const progress = document.createElement('progress');\n",
              "      progress.max = size;\n",
              "      div.appendChild(progress);\n",
              "      document.body.appendChild(div);\n",
              "\n",
              "      const buffers = [];\n",
              "      let downloaded = 0;\n",
              "\n",
              "      const channel = await google.colab.kernel.comms.open(id);\n",
              "      // Send a message to notify the kernel that we're ready.\n",
              "      channel.send({})\n",
              "\n",
              "      for await (const message of channel.messages) {\n",
              "        // Send a message to notify the kernel that we're ready.\n",
              "        channel.send({})\n",
              "        if (message.buffers) {\n",
              "          for (const buffer of message.buffers) {\n",
              "            buffers.push(buffer);\n",
              "            downloaded += buffer.byteLength;\n",
              "            progress.value = downloaded;\n",
              "          }\n",
              "        }\n",
              "      }\n",
              "      const blob = new Blob(buffers, {type: 'application/binary'});\n",
              "      const a = document.createElement('a');\n",
              "      a.href = window.URL.createObjectURL(blob);\n",
              "      a.download = filename;\n",
              "      div.appendChild(a);\n",
              "      a.click();\n",
              "      div.remove();\n",
              "    }\n",
              "  "
            ]
          },
          "metadata": {}
        },
        {
          "output_type": "display_data",
          "data": {
            "text/plain": [
              "<IPython.core.display.Javascript object>"
            ],
            "application/javascript": [
              "download(\"download_3ca0986b-157d-44a9-ac7d-60dd56186ab4\", \"dim_category.csv\", 395)"
            ]
          },
          "metadata": {}
        },
        {
          "output_type": "stream",
          "name": "stdout",
          "text": [
            "Downloaded dim_category.csv\n",
            "Saved sales_reps.csv\n"
          ]
        },
        {
          "output_type": "display_data",
          "data": {
            "text/plain": [
              "<IPython.core.display.Javascript object>"
            ],
            "application/javascript": [
              "\n",
              "    async function download(id, filename, size) {\n",
              "      if (!google.colab.kernel.accessAllowed) {\n",
              "        return;\n",
              "      }\n",
              "      const div = document.createElement('div');\n",
              "      const label = document.createElement('label');\n",
              "      label.textContent = `Downloading \"${filename}\": `;\n",
              "      div.appendChild(label);\n",
              "      const progress = document.createElement('progress');\n",
              "      progress.max = size;\n",
              "      div.appendChild(progress);\n",
              "      document.body.appendChild(div);\n",
              "\n",
              "      const buffers = [];\n",
              "      let downloaded = 0;\n",
              "\n",
              "      const channel = await google.colab.kernel.comms.open(id);\n",
              "      // Send a message to notify the kernel that we're ready.\n",
              "      channel.send({})\n",
              "\n",
              "      for await (const message of channel.messages) {\n",
              "        // Send a message to notify the kernel that we're ready.\n",
              "        channel.send({})\n",
              "        if (message.buffers) {\n",
              "          for (const buffer of message.buffers) {\n",
              "            buffers.push(buffer);\n",
              "            downloaded += buffer.byteLength;\n",
              "            progress.value = downloaded;\n",
              "          }\n",
              "        }\n",
              "      }\n",
              "      const blob = new Blob(buffers, {type: 'application/binary'});\n",
              "      const a = document.createElement('a');\n",
              "      a.href = window.URL.createObjectURL(blob);\n",
              "      a.download = filename;\n",
              "      div.appendChild(a);\n",
              "      a.click();\n",
              "      div.remove();\n",
              "    }\n",
              "  "
            ]
          },
          "metadata": {}
        },
        {
          "output_type": "display_data",
          "data": {
            "text/plain": [
              "<IPython.core.display.Javascript object>"
            ],
            "application/javascript": [
              "download(\"download_8109e27d-09d6-4ccc-87c9-7b3f6d0604fb\", \"sales_reps.csv\", 116)"
            ]
          },
          "metadata": {}
        },
        {
          "output_type": "stream",
          "name": "stdout",
          "text": [
            "Downloaded sales_reps.csv\n"
          ]
        }
      ]
    }
  ]
}